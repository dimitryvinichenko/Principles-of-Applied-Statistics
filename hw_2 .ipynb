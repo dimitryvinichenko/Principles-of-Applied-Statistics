{
  "cells": [
    {
      "cell_type": "markdown",
      "source": [
        "осталась 2.1.2.b, 2.2, 3.3"
      ],
      "metadata": {
        "id": "7jfhAUFOeNLg"
      },
      "id": "7jfhAUFOeNLg"
    },
    {
      "cell_type": "markdown",
      "id": "497e4167",
      "metadata": {
        "id": "497e4167"
      },
      "source": [
        "# Problem set 2 (99 pts)\n",
        "\n",
        "## Important information\n",
        "\n",
        "1. We provide signatures of the functions that you have to implement. Make sure you follow the signatures defined, otherwise your coding solutions will not be graded.\n",
        "\n",
        "2. Please submit the single Jupyter Notebook file, where only Python and Markdown/$\\LaTeX$\n",
        " are used. Any hand-written solutions inserted by photos or in any other way are prohibitive and will not be graded. If you will have any questions about using Markdown, ask them!\n",
        "\n",
        "3. The works will be checked for plagiarism. The score will be divided by the number of similar works."
      ]
    },
    {
      "cell_type": "markdown",
      "id": "f3e8a6cc",
      "metadata": {
        "id": "f3e8a6cc"
      },
      "source": [
        "# Problem 1 (44 pts)\n",
        "\n",
        "Commonly enough the matrices arising in discretisations of particular problems are not just sparse, but also possess the *banded* property i.e. a general element of $A$ be $a_{ij}$, we say that it has an *upper bandwith* of $u$ and a *lower bandwith* of $l$ iff it may only nonzero between $l$-th and $u$-th main diagonals (in other words, $a_{ij}$ may only be nonzero when $i\\le j+l$ and $j\\le i+ u$).\n",
        "In particular, any upper triangular matrix of size $n\\times n$ has a lower bandwith of 1 and an upper bandwith of $n$.\n",
        "The goal of this task is to endow you with some understanding of this important matrix class. Keep in mind that vectors are column.\n",
        "\n",
        "1) (1 pts) Assume you are given a dyadic matrix $xy^T$. Suppose that only $a$ leading components of $x$ and $b$ leading components of $y$ are nonzero. What are the bandwiths of this matrix?\n",
        "\n",
        "\n",
        "2) (3 pts) Assume you are given a banded matrix $A\\in\\mathbb{R}^{n\\times n}$ with bandwiths $l$ and $u$. Examine the bandwidths of its $L$ and $U$ factors in LU decomposition, assuming its existence. Assume that the diagonal is nonzero for simplicity of the proof.\n",
        "\n",
        "3) (3 pts) Assume we also perform pivoting in computing PLU decomposition, so that $A\\ne LU$, but rather $PA = LU$. Examine the upper bandwidth of $U$.\n",
        "\n",
        "\n",
        "4) (7 pts) Based on the intuition gained so far, propose and implement an LU algorithm for banded matrices specifically. Estimate the leading term in the complexity analysis. Pivoting is not needed.\n",
        "\n",
        "\n",
        "5) (5 pts) Specify the above algorithm to tridiagonal matrices. Implement it and estimate complexity.\n",
        "\n",
        "\n",
        "6) (10 pts) Since we are dealing with direct inversions, we would also like to know how the banded matrices invert. In particular, we would like to know if we can say something about inverses' structure. Show that the inverse of a banded matrix is a matrix with low-rank off-diagonal blocks and estimate the ranks thereof. Assume the matrix diagonal blocks nonsingular.\n",
        "\n",
        "7) (10 pts) Finally, proof the following important fact, due to Strang: if both a matrix and its inverse are banded, then the matrix is a product of block diagonal factors; each factor is composed of $2\\times2$ and $1\\times1$ blocks, and the total number thereof is not dependent directly on the matrix dimension. Try to make it as convincing as you can.\n",
        "\n",
        "8) (5 pts) Consider the inverse matrix of a banded matrix with the strcuture from task 7); consider also the transpose thereof. Show that they share bandwidths."
      ]
    },
    {
      "cell_type": "code",
      "execution_count": null,
      "id": "1d370d56",
      "metadata": {
        "id": "1d370d56"
      },
      "outputs": [],
      "source": [
        "# Your solution is here"
      ]
    },
    {
      "cell_type": "code",
      "source": [
        "me"
      ],
      "metadata": {
        "id": "GSuWyQFMsEK1"
      },
      "id": "GSuWyQFMsEK1",
      "execution_count": null,
      "outputs": []
    },
    {
      "cell_type": "markdown",
      "source": [
        "1) $(xy^T)_{ij} = x_iy_j$\n",
        "\n",
        "$x_iy_j$ would be nonzero for $i \\leq a$ and for $j \\leq b$\n",
        "\n",
        "So basically only the upper a x b block is nonzero and the upper and lower bandwith are respectfully a, b.\n",
        "\n",
        "\n",
        "2) $A$ can be rewritten as\n",
        "$$\n",
        "A = \\begin{bmatrix}a&b^T\\\\c&D\\end{bmatrix}\n",
        "$$\n",
        "\n",
        "where $a$ is a scalar, $b, c \\in \\mathbb{R}^{n-1}$ and $D$ is a banded lower block\n",
        "\n",
        "We can then perform Gausian elimination to get the LU decomposition\n",
        "\n",
        "$$\n",
        "A=LU\n",
        "$$\n",
        "\n",
        "$$\n",
        "L=\\begin{bmatrix}1&0\\\\\\frac{c}{a}&I\\end{bmatrix}\n",
        "$$\n",
        "\n",
        "$$\n",
        "U=\\begin{bmatrix}a&b^T\\\\0&D-\\frac{cb^T}a\\end{bmatrix}\n",
        "$$\n",
        "\n",
        "\n",
        "Given that the original matrix has bandwiths $l$ and $u$, $D$ also possesses the same bandwiths. Furthermore, both $b$ and $c$ have $u$ leading nonzero values and $l$ respectively. Hence the bandwiths of $D$ are equivalent to those of $A$.\n",
        "\n",
        "Consequently, the upper bandwith of L and the lower bandwith of $U$ become zeroes. Additionally, due to the structure of $b$, the upper bandwith of $U$ is the same as that of $A$, whereas the lower bandwith of $L$ is solely determined by the number of nonzero values in $c$, which happens to be $l$. So $L$ has bandwith $(0, l)$ and $U$ has bandwith $(u, 0)$\n",
        "\n",
        "3) To represent P, a stacked matrix of indicator row vectors can be utilized. Each element $p_{ij}$ indicates whether the j-th row is placed in the i-th position. Consider $idx[p_i]$ as the index of the element that is present in a specific row.\n",
        "\n",
        "It is noteworthy that $(PA)_{ij}$ is equal to $A_{idx[p_i];j}$ according to the definition. If $idx[p_i]$ is greater than $j + l$, it can be observed that this value becomes zero. However, it is impossible for $idx[p_s]$ to surpass $s + l$ for any $s$ since it would imply that a principal minor of size $s$ in $PA$ becomes singular, rendering the entire matrix singular as well.\n",
        "\n",
        "Therefore, we can conclude that $idx[p_s]$ is less than or equal to $s + l$. Consequently, based on the definition, the upper bandwidth of $PA$ is enhanced by $l$ as a shift of at most $l$ is feasible where the rightmost diagonal represents the u-th element. As a result, the upper bandwidth of $U$ is also identical, namely $u + l$.\n",
        "\n",
        "\n",
        "4) To get LU decomposition of banded matrix we can perform the regular Gaussian elimination, but skip unnecessary steps by only iterating until the minimum between $n$ and the band boundary.\n",
        "At each step we need to do at most $lu$ multiplications and additions. So complexity of LU decomposition of banded matrix will be $2nlu$ rather than $\\frac{2}{3}n^3$"
      ],
      "metadata": {
        "id": "f3NjZqvEnFns"
      },
      "id": "f3NjZqvEnFns"
    },
    {
      "cell_type": "code",
      "source": [
        "import numpy as np\n",
        "\n",
        "def lu_decomposition_banded(A, l, u):\n",
        "    n = A.shape[0]\n",
        "    U = np.copy(A)\n",
        "    L = np.eye(n, dtype=np.double)\n",
        "\n",
        "    for k in range(n):\n",
        "        for i in range(k+1, min(k+l+1, n)):\n",
        "            factor = U[i, k] / U[k, k]\n",
        "            L[i, k] = factor\n",
        "            for j in range(k, min(k+u+1, n)):\n",
        "                U[i, j] -= factor * U[k, j]\n",
        "    return L, U\n",
        "\n",
        "# Test the function\n",
        "A = np.array([[7, 3, 0, 0], [3, 8, 1, 0], [0, 1, 4, -1], [0, 0, -1, 6]], dtype=np.float64)\n",
        "l = 2  # lower bandwidth\n",
        "u = 2  # upper bandwidth\n",
        "L, U = lu_decomposition_banded(A, l, u)\n",
        "\n",
        "print(\"L:\")\n",
        "print(L)\n",
        "print(\"U:\")\n",
        "print(U)\n",
        "tolerance = 1e-10\n",
        "if np.allclose(A, L@U, atol=tolerance):\n",
        "    print(\"LU is close enough to A\")\n"
      ],
      "metadata": {
        "colab": {
          "base_uri": "https://localhost:8080/"
        },
        "id": "meDWYbCqryMD",
        "outputId": "e992cb4e-c355-406e-96f7-a51752b9f7a7"
      },
      "id": "meDWYbCqryMD",
      "execution_count": null,
      "outputs": [
        {
          "output_type": "stream",
          "name": "stdout",
          "text": [
            "L:\n",
            "[[ 1.          0.          0.          0.        ]\n",
            " [ 0.42857143  1.          0.          0.        ]\n",
            " [ 0.          0.14893617  1.          0.        ]\n",
            " [ 0.          0.         -0.25966851  1.        ]]\n",
            "U:\n",
            "[[ 7.          3.          0.          0.        ]\n",
            " [ 0.          6.71428571  1.          0.        ]\n",
            " [ 0.          0.          3.85106383 -1.        ]\n",
            " [ 0.          0.          0.          5.74033149]]\n",
            "[[ 7.  3.  0.  0.]\n",
            " [ 3.  8.  1.  0.]\n",
            " [ 0.  1.  4. -1.]\n",
            " [ 0.  0. -1.  6.]]\n",
            "LU is close enough to A\n"
          ]
        }
      ]
    },
    {
      "cell_type": "markdown",
      "source": [
        "5). Since tridiagonal matrix has lower bandwith = 2 and upper bandwith = 2. then complexity will be 8n."
      ],
      "metadata": {
        "id": "ncxS1uGTtwzZ"
      },
      "id": "ncxS1uGTtwzZ"
    },
    {
      "cell_type": "code",
      "source": [
        "import numpy as np\n",
        "\n",
        "def lu_decomposition_tridiagonal(A):\n",
        "    n = len(A)\n",
        "    L = np.zeros((n,n))\n",
        "    U = np.copy(A)\n",
        "\n",
        "    for i in range(n):\n",
        "        L[i, i] = 1\n",
        "        if i < n-1:\n",
        "            factor = U[i+1, i] / U[i, i]\n",
        "            L[i+1, i] = factor\n",
        "            U[i+1, i] = 0\n",
        "            U[i+1, i+1] = U[i+1, i+1] - factor * U[i, i+1]\n",
        "\n",
        "    return L, U\n",
        "\n",
        "# Test the function with a 4x4 tridiagonal matrix\n",
        "A = np.array([[4, 1, 0, 0], [1, 4, 1, 0], [0, 1, 4, 1], [0, 0, 1, 4]], dtype=np.float64)\n",
        "L, U = lu_decomposition_tridiagonal(A)\n",
        "\n",
        "print(\"L:\")\n",
        "print(L)\n",
        "print(\"U:\")\n",
        "print(U)\n",
        "tolerance = 1e-10\n",
        "if np.allclose(A, L@U, atol=tolerance):\n",
        "    print(\"LU is close enough to A\")\n"
      ],
      "metadata": {
        "colab": {
          "base_uri": "https://localhost:8080/"
        },
        "id": "FFSpGGGvvi4L",
        "outputId": "623c2248-6a19-40df-875c-94331ce8dc0e"
      },
      "id": "FFSpGGGvvi4L",
      "execution_count": null,
      "outputs": [
        {
          "output_type": "stream",
          "name": "stdout",
          "text": [
            "L:\n",
            "[[1.         0.         0.         0.        ]\n",
            " [0.25       1.         0.         0.        ]\n",
            " [0.         0.26666667 1.         0.        ]\n",
            " [0.         0.         0.26785714 1.        ]]\n",
            "U:\n",
            "[[4.         1.         0.         0.        ]\n",
            " [0.         3.75       1.         0.        ]\n",
            " [0.         0.         3.73333333 1.        ]\n",
            " [0.         0.         0.         3.73214286]]\n",
            "LU is close enough to A\n"
          ]
        }
      ]
    },
    {
      "cell_type": "markdown",
      "source": [
        "6) If $A$ is a banded matrix with lower bandwith $l$ and upper bandwith $u$, and $B = A^{-1}$.\n",
        "\n",
        "If we partition $A$, and $B$ into blocks $A_{ij}, B_{ij}$, then\n",
        "\n",
        "$A_{10}B_{00} + A_{11}B_{10} = A_{00}B_{01} + A_{01}B_{11} = 0$\n",
        "\n",
        "$⇒B_{01} = -A_{00}^{-1}A_{01}B_{11}$\n",
        "\n",
        "By the question, assuming $A_{00}$ is non singular then $rank(B_{01}$ is less than or equal the most rank-deficient matrix which is $A_{01}$, which has rank at most $l$. Similar case for $B_{10}$\n",
        "\n",
        "$rank(B) \\leq rank(B_{10}) + rank(B_{01})$\n",
        "\n",
        "$rank(B) \\leq 2l$\n",
        "\n",
        "7)\n",
        "To prove this, we begin by performing elimination steps on the matrix A to make it diagonal. We focus on the case where both A and its inverse have a bandwidth of 2 (represented by W). The crucial consequence of this bandwidth is that all submatrices H and K of A, located below the Wth upper diagonal and above the Wth lower diagonal, have a rank of at most W.\n",
        "\n",
        "We start the elimination process on the first 4 rows of A. We divide these rows into submatrices H1 and K1, each with a rank of at most W. Since A is invertible, these four rows must be independent, meaning that both H1 and K1 have a rank equal to W. The non-zero elements are marked with x and X, and the bandwidth is set to 2.\n",
        "\n",
        "By applying row operations, we can introduce non-zero elements in the first two diagonal positions (X) of H1 while keeping zeros elsewhere in H1. As rows 3 and 4 of A remain independent, the new rows 3 and 4 of K1 must also be independent. Further row operations remove rows 1 and 2 of K1 without affecting H1. Then, by performing operations on columns 3, 4, 5, and 6 of A, we can introduce non-zero elements in the two diagonal positions (X) of K1 while maintaining zeros elsewhere.\n",
        "\n",
        "We then proceed to rows 5-8 and repeat the same process. We create new submatrices H2 and K2, which must have a rank of W. The last two columns of H2 must be independent because they are now zero in K1. Using these columns, we can introduce zeros in the first two columns of H2 without affecting K1. This results in H2 and K2 being in the same situation as the original H1 and K1.\n",
        "\n",
        "We continue this process on rows 5-8 of the current A and on columns 7-10, introducing non-zero elements only in the diagonal positions (X) of the matrices. All row operations are left multiplications by elimination matrices, which can be factored into products of the admissible Fs. The key observation is that operations on rows 1-4 and rows 5-8 can be carried out simultaneously using the same Fs. Similarly, column operations on A are right multiplications, and columns 3-6 can be modified in parallel with columns 7-10.\n",
        "\n",
        "In summary, the proof demonstrates that by performing elimination steps on the matrix A, we can transform it into a block diagonal form consisting of 2×2 and 1×1 blocks. This decomposition is possible regardless of the matrix's dimension, and the number of blocks does not depend directly on the matrix size.\n",
        "\n",
        "\n",
        "8) Since $A$ and $A^T$ will have the same bandwith and $(A^{-1})^T = (A^T)^{-1}$, then $A^T$ will be the transpose of the blocks and the inverse of the multiplication of these blocks will have the same bandwith as $A^{-1}$"
      ],
      "metadata": {
        "id": "6ZgOTLnz46ib"
      },
      "id": "6ZgOTLnz46ib"
    },
    {
      "cell_type": "markdown",
      "id": "37600aad",
      "metadata": {
        "id": "37600aad"
      },
      "source": [
        "# Problem 2. Stability of linear least squares (25 pts)\n",
        "\n",
        "In this task you are supposed to explore the concept of the stability of the linear least squares problem.\n",
        "\n",
        "So you are given a matrix $A \\in \\mathbf{R}^{n \\times m}, n > m$, the right-hand side $b \\in \\mathbf{R}^{n}$. And you need to find the solution $x \\in \\mathbf{R}^{m}$ that minimizes the residual:\n",
        "\n",
        "$$\n",
        "\\Vert A x - b \\Vert_2 \\rightarrow \\min_x.\n",
        "$$\n",
        "\n",
        "### Task 1. Theory\n",
        "For all tasks here you can use spectral norm for the computation of condition number.\n",
        "\n",
        "1. (5 pts) Condition number of a matrix affects the stability of the solution. Recall from the lecture that using a normal equation $ A^* A x = A^* b $ to solve linear least squares problem is not a good idea.\n",
        "Prove that $\\mathrm{cond}_2(A^* A) = \\mathrm{cond}_2(A)^2$.\n",
        "\n",
        "2. (5 pts) Derive the condition number in 2-norm for\n",
        "  \n",
        "   a) unitary matrix,\n",
        "   \n",
        "   b) normal matrix,\n",
        "\n",
        "   c) diagonal matrix.\n",
        "\n",
        "### Task 2. Practice (15 pts)\n",
        "\n",
        "In this task you need to compare the relative errors of solution produced by different approaches for solving linear least squares on ill-conditioned matrices.\n",
        "\n",
        "1. Come up with the way to construct a random $n \\times m$ matrix with given condition number. Implement it in `construct_random_matrix`.\n",
        "\n",
        "2. You need to solve linear least squares problem using four ways:\n",
        "   \n",
        "   a) with normal equation;\n",
        "   \n",
        "   b) using QR decomposition;\n",
        "   \n",
        "   c) using pseudoinverse (compute it yourself using SVD);\n",
        "   \n",
        "   d) using bigger system of equations\n",
        "   \n",
        "   $$ \\begin{pmatrix} 0 & A^* \\\\ A & -I \\end{pmatrix} \\begin{pmatrix} x \\\\ r \\end{pmatrix} = \\begin{pmatrix} 0 \\\\ b \\end{pmatrix}, $$\n",
        "   \n",
        "    where $r = Ax - b$.\n",
        "\n",
        "3. With the growth of condition number show the growth of the relative error $\\frac{\\Vert \\hat{x} - x \\Vert}{\\Vert x \\Vert}$ between the initial solution $x$ and the solution $\\hat{x}$ of the perturbed system $Ax = b + \\Delta b$. Show that for the normal equation the dependence is quadratic w.r.t condition number, while for the other methods it is linear. Plot the resulting dependence (error vs condition number) and comment on results. Ensure that your plots are interpretable.\n",
        "\n",
        "4. In general, the setup of your experiment should be the following:\n",
        " - Generate a random matrix $A$ and a vector $x_\\text{true}$.\n",
        " - Compute the correct right-hand side $b$.\n",
        " - Solve the resulting system $Ax = b$ to get $x$.\n",
        " - Perturb the system $Ax = b + \\Delta b$ and get new solution $\\hat{x}$. The perturbation $\\frac{\\Vert \\Delta b \\Vert}{\\Vert b \\Vert}$ should be small.\n",
        "\n",
        "You are free to use `numpy` or `jax`."
      ]
    },
    {
      "cell_type": "markdown",
      "source": [
        "### Task 1 ###\n",
        "\n",
        "$$cond(A) = \\|A\\|\\|A^{-1}\\|$$\n",
        "\n",
        "$cond_2(A) =\\|A\\|_2\\|A^{-1}\\|_2 = \\sqrt{λ_{max}(A^*A}) \\sqrt{λ_{max}((A^{-1})^*A^{-1})} =  \\sqrt{λ_{max}(A^*A}) \\sqrt{λ_{max}((A^*)^{-1}A^{-1})} = \\sqrt{λ_{max}(A^*A}) \\sqrt{λ_{max}((AA^*)^{-1})}$\n",
        "\n",
        "Eigenvalues of $(AA^*)^{-1}$ are just reciprocals of eigenvalues of $(AA^*)$, which can easily be seen from spectral decomposition.\n",
        "\n",
        "Therefore $λ_{max}((AA^*)^{-1}) = 1/ λ_{min}((AA^*)) = 1/λ_{min}((A^*A)) ⇒$\n",
        "\n",
        "$cond_2(A) = \\sqrt{λ_{max}(A^*A}) \\sqrt{1/λ_{min}((A^*A))}$\n",
        "\n",
        "$$= \\sqrt{\\frac{\\lambda_{max}(A^*A)}{\\lambda_{min}(A^*A)}}$$\n",
        "\n",
        "\n",
        "\n",
        "\n",
        "1) By SVD, let $A = UΣV^*$ and $A^* = VΣU^*$\n",
        "\n",
        "$A^*A = UΣ^2U^*$ where $Σ^2$ are eigenvalues of $A^*A$\n",
        "\n",
        "$(A^*A)^2 = UΣ^4U^*$. Therefore $\\lambda_i((A^*A)^2) = \\lambda_i(A^*A)^2$\n",
        "\n",
        "$$cond_2(A) = \\sqrt{\\frac{\\lambda_{max}(A^*A)}{\\lambda_{min}(A^*A)}} ⇒$$\n",
        "\n",
        "$$cond_2(A^*A) = \\sqrt{\\frac{\\lambda_{max}((A^*A)^2)}{\\lambda_{min}((A^*A)^2)}} = \\sqrt{\\frac{ \\lambda_{max}(A^*A)^2}{ \\lambda_{min}(A^*A)^2}} = \\sqrt{\\left(\\frac{\\lambda_{max}(A^*A)}{\\lambda_{min}(A^*A)}\\right)^2}$$\n",
        "eigenvalues of $A^*A$ are positive so\n",
        "\n",
        "$=\\left(\\sqrt{\\frac{\\lambda_{max}(A^*A)}{\\lambda_{min}(A^*A)}}\\right)^2 = cond_2(A)^2$\n",
        "\n",
        "2a) If A is unitary $⇒ A^{*}A = I$\n",
        "\n",
        "$$cond_2(A) = \\sqrt{\\frac{\\lambda_{max}(A^*A)}{\\lambda_{min}(A^*A)}} =  \\sqrt{\\frac{\\lambda_{max}(I)}{\\lambda_{min}(I)}} = 1$$\n",
        "\n",
        "\n",
        "2b) If A is normal $⇒ A = UΛU^*$, where $U$ is unitary and $Λ$ are it's eigenvalues.\n",
        "\n",
        "Then $A^*A = U\\Lambda ^2U^*$, and $A^*A$ eigenvalues are eigenvalues of $A$ squared.\n",
        "\n",
        "$cond_2(A) = \\sqrt{\\frac{λ_{max}(A^*A)}{λ_{min}(A^*A)}} = \\sqrt{\\frac{λ_{max}(A)^2}{λ_{min}(A)^2}} = \\frac{|λ_{max}(A)|}{|λ_{min}(A)|}$\n",
        "\n",
        "2c) Let $A$ be diagonal\n",
        "\n",
        "$cond_2(A) = \\sqrt{\\frac{\\lambda_{max}(A^*A)}{\\lambda_{min}(A^*A)}} = \\sqrt{\\frac{λ_{max}(A)^2}{λ_{min}(A)^2}} = \\frac{|λ_{max}(A)|}{|λ_{min}(A)|} = \\frac{|max(A_{ii})|}{|min(A_{ii})|} $"
      ],
      "metadata": {
        "id": "m1C7bJYWflQk"
      },
      "id": "m1C7bJYWflQk"
    },
    {
      "cell_type": "code",
      "execution_count": 1,
      "id": "a1cddb54",
      "metadata": {
        "id": "a1cddb54"
      },
      "outputs": [],
      "source": [
        "import numpy as np\n",
        "\n",
        "\n",
        "def construct_random_matrix(n: int, m: int, cond_number: float):\n",
        "    \"\"\"\n",
        "    Constructs random nxm matrix with a given condition matrix.\n",
        "\n",
        "    Args:\n",
        "        n, m: matrix dimensions\n",
        "        cond_number: the desired condition numebr\n",
        "\n",
        "    Returns: nxm matrix with condition number cond_number\n",
        "    \"\"\"\n",
        "    # Your solution here\n",
        "    A = np.random.rand(n, m)\n",
        "    U, s, Vt = np.linalg.svd(A)\n",
        "    s = np.linspace(cond_number, 1, num=min(n, m))\n",
        "    S = np.zeros((n, m))\n",
        "    S[:min(n, m), :min(n, m)] = np.diag(s)\n",
        "    A = U @ S @ Vt\n",
        "    return A\n",
        "\n",
        "\n",
        "\n",
        "n = 100\n",
        "m = 40\n",
        "cond_number = np.random.random() * 1000\n",
        "\n",
        "assert np.allclose(np.linalg.cond(construct_random_matrix(n, m, cond_number)), cond_number)"
      ]
    },
    {
      "cell_type": "code",
      "source": [
        "from scipy.linalg import solve_triangular\n",
        "\n",
        "def relative_error(x_hat, x_true):\n",
        "    return np.linalg.norm(x_hat - x_true) / np.linalg.norm(x_true)\n",
        "\n",
        "def perturbation_vector(b, delta=1e-5):\n",
        "    max_norm = delta * np.linalg.norm(b)\n",
        "    max_value = (max_norm**2 / b.shape[0])**0.5\n",
        "    sign_vector = np.random.choice(np.array([1, -1]), size=b.shape[0])\n",
        "    return sign_vector*np.array([max_value] * b.shape[0])\n",
        "\n",
        "def normal_equation(X, y):\n",
        "    LHS = X.T@X\n",
        "    RHS = X.T@y\n",
        "    theta = np.linalg.solve(LHS, RHS)\n",
        "    # theta = np.linalg.inv(LHS) @ RHS\n",
        "    return theta\n",
        "\n",
        "def QR(X, y):\n",
        "    Q, R = np.linalg.qr(X)\n",
        "    tosolve = Q.T@y\n",
        "    theta = solve_triangular(R, tosolve)\n",
        "    return theta\n",
        "\n",
        "\n",
        "def pseudo_inverse(X, y):\n",
        "    U, s, Vt = np.linalg.svd(X)\n",
        "    s_inv = 1/s\n",
        "    S_inv = np.zeros((X.shape[0], X.shape[1])).T\n",
        "    S_inv[:X.shape[1], :X.shape[1]] = np.diag(s_inv)\n",
        "    return Vt.T@S_inv@U.T@y\n",
        "\n",
        "\n",
        "def block(X, y):\n",
        "    zeros = np.zeros((m, m))\n",
        "    I = -np.eye(n)\n",
        "    system = np.block([[zeros, X.T], [X, I]])\n",
        "    resolve = np.block([np.zeros((m,)), y])\n",
        "    return (np.linalg.inv(system)@resolve)[:m]\n",
        "\n"
      ],
      "metadata": {
        "id": "p47Wyt2vHfGu"
      },
      "id": "p47Wyt2vHfGu",
      "execution_count": 9,
      "outputs": []
    },
    {
      "cell_type": "code",
      "source": [
        "import matplotlib.pyplot as plt\n",
        "from functools import partial\n",
        "\n",
        "QR_error = list()\n",
        "normal_eq_error = list()\n",
        "pseudo_error = list()\n",
        "block_error = list()\n",
        "\n",
        "cond_numbers = np.linspace(1, int(1e6), 600)\n",
        "updated_list = []\n",
        "stop = 0\n",
        "\n",
        "m = int(np.random.randint(40, 60))\n",
        "n = m + int(np.random.randint(20, 100))\n",
        "for index, cond_number in enumerate(cond_numbers):\n",
        "    A = construct_random_matrix(n, m, cond_number)\n",
        "    x_true = np.random.rand(m)\n",
        "    b_true = A.dot(x_true)\n",
        "    b = b_true + perturbation_vector(b_true, 1e-13)\n",
        "\n",
        "    try:\n",
        "        normal_eq_error.append(relative_error(normal_equation(A, b), x_true))\n",
        "        QR_error.append(relative_error(QR(A, b), x_true))\n",
        "        pseudo_error.append(relative_error(pseudo_inverse(A, b), x_true))\n",
        "        block_error.append(relative_error(block(A, b), x_true))\n",
        "\n",
        "    except (ValueError, np.linalg.LinAlgError) as e:\n",
        "        updated_list = updated_list + list(cond_numbers[stop: index])\n",
        "        stop = index + 1\n",
        "\n",
        "if len(updated_list) == 0:\n",
        "    updated_list = cond_numbers\n",
        "else:\n",
        "    updated_list = updated_list + list(cond_numbers[stop:])\n",
        "\n",
        "plt.xlabel(\"Condition Number\")\n",
        "plt.ylabel(\"Relative Error\")\n",
        "plt.plot(updated_list, QR_error, 'x', label=\"QR\")\n",
        "plt.plot(updated_list, normal_eq_error, 'o', label=\"Normal Eq\")\n",
        "plt.plot(updated_list, pseudo_error, '+', label=\"Pseudo-Inverse\")\n",
        "plt.plot(updated_list, block_error, '.', label=\"BLOCK\")\n",
        "plt.legend()\n",
        "plt.show()"
      ],
      "metadata": {
        "colab": {
          "base_uri": "https://localhost:8080/",
          "height": 449
        },
        "id": "FNra35lRGss_",
        "outputId": "44a03576-02f7-4046-97d3-af8facf83348"
      },
      "id": "FNra35lRGss_",
      "execution_count": 18,
      "outputs": [
        {
          "output_type": "display_data",
          "data": {
            "text/plain": [
              "<Figure size 640x480 with 1 Axes>"
            ],
            "image/png": "[encoded data removed]"
          },
          "metadata": {}
        }
      ]
    },
    {
      "cell_type": "markdown",
      "id": "9f71aa55",
      "metadata": {
        "id": "9f71aa55"
      },
      "source": [
        "# Problem 3 (30 pts)\n",
        "\n",
        "A generalisation of the eigenvalue problem is the generalised eigenvalue problem; if an eigenpair satisfies\n",
        "$$ Av = \\lambda v,$$\n",
        "then a generalised eigenvalue for a pair $(A,B)$ of matrices makes the matrix\n",
        "$$A-\\lambda B$$\n",
        "degenerate.\n",
        "The generalised eigenvector satisfies $Av = \\lambda Bv$. In this task we consider matrices $A,B$ are of size  $n\\times n$.\n",
        "\n",
        "## Task 1 (4 pts)\n",
        "\n",
        "How many generalised eigenvalues are there for each of the following matrix pairs? Find all, if you can:\n",
        "\n",
        "  1. $$ A = \\begin{bmatrix} 1 & 2 \\\\ 0 & 3 \\end{bmatrix}, \\quad B = \\begin{bmatrix} 1 & 0 \\\\ 0& 1 \\end{bmatrix} $$\n",
        "\n",
        "  2. $$ A = \\begin{bmatrix} 1 & 2 \\\\ 0 & 3 \\end{bmatrix}, \\quad B = \\begin{bmatrix} 1 & 0 \\\\ 0& 0 \\end{bmatrix} $$\n",
        "  \n",
        "  3. $$ A = \\begin{bmatrix} 1 & 2 \\\\ 0 & 3 \\end{bmatrix}, \\quad B = \\begin{bmatrix} 0 & 1 \\\\ 0& 0 \\end{bmatrix} $$\n",
        "  \n",
        "  4. $$ A = \\begin{bmatrix} 1 & 2 \\\\ 0 & 0 \\end{bmatrix}, \\quad B = \\begin{bmatrix} 1 & 0 \\\\ 0& 0 \\end{bmatrix} $$\n",
        "\n",
        "## Task 2 (2 pts)\n",
        "\n",
        "Assume $\\mu$ is not a generalised eigenvalue of $(A,B)$. How are spectra of $(A,B)$ and $((A-\\mu B)^{-1}A,(A-\\mu B)^{-1}B)$ related?\n",
        "\n",
        "## Task 3 (24 pts)\n",
        "\n",
        "To solve the complete generalised eigenvalue problem, [QZ algorithm](https://link.springer.com/content/pdf/10.1007/3-540-28502-4_2) can be used. This algorithm is the direct generalization of the QR algorithm for the standard eigenvalue problem.\n",
        "However, in this task we focus on the partial generalised eigenvalue problem and its application to the canonical correlation analysis.\n",
        "\n",
        "You can test the algorithms in the further tasks only for the symmetric matrices $A$ and symmetric positive definite matrices $B$.\n",
        "\n",
        "### From power method to its generalisation form\n",
        "\n",
        "In order to recover the largest generalised eigenvalue and the corresponding eigenvector, one can note that\n",
        "\n",
        "$$Av = \\lambda Bv$$\n",
        "\n",
        "is equivalent to\n",
        "\n",
        "$$B^{-1}Av = \\lambda v.$$\n",
        "\n",
        "Therefore, one has to use the power method to $B^{-1}A$ with a random initialisation.\n",
        "However, it may be rather expensive to invert $B$ explicitly.\n",
        "Therefore, we would like to avoid doing that and inexactly apply $B^{-1}$ through the solving linear system $Bx = y$.\n",
        "Implement the resulting algorithm based on this idea, verify its convergence speed and check that the generalised eigenvalue relation holds.\n",
        "\n",
        "Important notes that will help you successfully update the classical power method:\n",
        "\n",
        "1) think about how the normalization step should be changed, the energy norm definition $\\|x\\|^2_A = x^\\top A x$ can help in the proper reformultation\n",
        "\n",
        "2) think how the step $x_{k+1}= Ax_k$ will be updated with the aforementioned notes regarding operations with matrix $B$\n",
        "\n",
        "### From *block* power method to its generalisation form\n",
        "\n",
        "Just as in the regular eigenvalue case, generalised eigenvalues can be extended to block power method (which can yield the QZ algoritm, analogously to emergence of QR in the regular case).\n",
        "The extension is straightforward and consists of replacing vectors with matrices corresponding to the $k$ largest  generalised eigenvectors.\n",
        "Moreover, since orthogonality is reqiored, a routine for enforcing orthogonality of the iterates is also needed. Implement the block power method for the generalised eigenvalue problem.\n",
        "Pay special attention how the orthogonalisation procedure shown be changed to take into account the matrix $B$.\n",
        "Separately implement the proper orthoghonalisation algorithm and use it in your code for the target block power method.\n",
        "Test convergence speed and check that results satisfy the target equation.\n",
        "\n",
        "In addition, you can check the correctness of your result with ```scipy.linalg.eigh``` function with proper argumets.\n",
        "\n",
        "### Application of the generalised eignevalue problem to the canonical correlation analysis\n",
        "\n",
        "When one studies two datasets, it may be desirable to find the orthogonal (in the sense of the inner products induced by the correlation matrices) bases of spaces that capture linear combinations of features that are most correlated between the two datasets.\n",
        "Such a problem is called the problem of **canonical correlation analysis** and can be formulated as finding such a sequence $\\{(\\phi_i, \\psi_i)\\}$ that for data matrices $X\\in\\mathbb{R}^{n\\times a}, Y\\in\\mathbb{R}^{n\\times b}$\n",
        "\n",
        "$$(\\phi_i, \\psi_i)\\in \\arg\\max_{\\phi, \\psi} \\phi^TS_{xy}\\psi$$\n",
        "\n",
        "Subject to:\n",
        "\n",
        "$$\\|\\phi\\|_{S_x} = \\|\\psi\\|_{S_y} = 1$$\n",
        "\n",
        "$$\\langle\\phi, \\phi_j\\rangle_{S_x} = 0 \\quad \\forall j<i$$\n",
        "\n",
        "\n",
        "$$\\langle\\psi, \\psi_j\\rangle_{S_y} = 0 \\quad \\forall j<i,$$\n",
        "\n",
        "where $\\|\\cdot\\|_A$ is the energy norm induced by $A$, $\\langle\\cdot,\\cdot\\rangle_A$ is the inner product induced by $A$, $S_y = \\frac{1}{n}Y^\\top Y$, $S_x = \\frac{1}{n}X^\\top X$, $S_{xy} = \\frac{1}{n}X^\\top Y$\n",
        "\n",
        "We are asked to find two bases of the maximal-cross-correlation subspace, both orthogonal in the inner product induced by the correlation matrix of the appropriate dataset.\n",
        "\n",
        "Consider firstly the problem of simply finding a basis of the described space, subject only to unit-vector conditions (since orthogonalisation can always be carried out separately).\n",
        "The Lagrangian will then read:\n",
        "\n",
        "$$L(\\phi, \\psi, \\lambda, \\mu) = \\phi^TS_{xy}\\psi-\\lambda(\\phi^TS_x\\phi-1)-\\mu(\\psi^TS_y\\psi-1),$$\n",
        "\n",
        "where $\\lambda$ and $\\mu$ are dual variables.\n",
        "\n",
        "From the stationarity of Lagrangian with respect ot the original variables $\\psi$ and $\\phi$ follows the following equation on the dual varibles\n",
        "\n",
        "$$S_{xy}\\psi = \\lambda S_x\\phi$$\n",
        "\n",
        "$$S_{yx}\\phi = \\mu S_y\\psi$$\n",
        "\n",
        "Note that\n",
        "\n",
        "$$\\|\\phi\\|_{S_x} = \\phi^TS_x\\phi = \\frac{1}{\\lambda}\\phi^T S_{xy}\\psi = \\frac{1}{\\lambda} \\psi^TS_{yx}\\phi = \\frac{\\mu}{\\lambda}\\psi^TS_y\\psi = \\frac{\\mu}{\\lambda}\\|\\psi\\|_{S_y} = \\frac{\\mu}{\\lambda} = 1,$$\n",
        "\n",
        "Therefore $\\mu=\\lambda$ and the equations above can be simplified in the following way\n",
        "\n",
        "$$S_{xy}\\psi = \\lambda S_x\\phi$$\n",
        "\n",
        "$$S_{yx}\\phi = \\lambda S_y\\psi$$\n",
        "\n",
        "and the problem admits a block representation:\n",
        "\n",
        "$$\\begin{bmatrix}0 & S_{xy} \\\\ S_{yx} & 0\\end{bmatrix}\\begin{bmatrix}\\phi\\\\\\psi\\end{bmatrix} = \\lambda \\begin{bmatrix}S_x & 0 \\\\ 0 & S_y\\end{bmatrix}\\begin{bmatrix}\\phi\\\\\\psi\\end{bmatrix}. $$\n",
        "\n",
        "Surprisingly, this problem has the form of the generalised eigenvalue problem.\n",
        "Therefore, the target vectors can be found as the leading eigenvectors and will be an orthonormal basis.\n",
        "\n",
        "You need to implement the algorithm for extracting $k$ vectors $\\psi_i, \\phi_i$ from the given data matrices $X \\in \\mathbb{R}^{n \\times d_1}$ and $Y \\in \\mathbb{R}^{n \\times d_2}$.\n",
        "You should use the power method from the previous task and take into account the special structure of the matrices $(A, B)$ coming from the original problem statment. Please, use this structure for efficient implementation of the internal steps."
      ]
    },
    {
      "cell_type": "markdown",
      "source": [
        "### Task 1 Ans ###\n",
        "1. $det(A-\\lambda B) = (1 - \\lambda)(3 - \\lambda) = 0$.\n",
        "\n",
        "Therefore $(A, B)$ has generalized eigenvalues 1, 3\n",
        "\n",
        "$$\n",
        "$$\n",
        "2. $det(A-\\lambda B) = 3(1 - \\lambda) = 0$\n",
        "\n",
        "Therefore $(A, B)$ has generalized eigenvalue 1\n",
        "$$\n",
        "$$\n",
        "3. $det(A-\\lambda B) = 3$.\n",
        "\n",
        "Therefore there are no scalars $\\lambda$ to make $A - \\lambda B$ degenerate and $(A, B)$ has no general eigenvalues\n",
        "\n",
        "$$\n",
        "$$\n",
        "4. $det(A-\\lambda B) = -\\lambda * 0$.\n",
        "\n",
        "Therefore $(A, B)$ has general eigenvalues $\\lambda = \\mathbb{C}$"
      ],
      "metadata": {
        "id": "v3IapFv76UDi"
      },
      "id": "v3IapFv76UDi"
    },
    {
      "cell_type": "markdown",
      "source": [
        "### Task 2 Ans ###\n",
        "\n",
        "If $\\lambda$ and $v$ is a generalized eigenvalue and eigenvector respectively then,\n",
        "\n",
        "$$Av = \\lambda Bv$$\n",
        "\n",
        "multiplying another nonzero matrix C on both sides\n",
        "\n",
        "$$CAv = \\lambda CBv$$\n",
        "\n",
        "Therefore $(A, B)$ and $(CA, CB)$ have the same generalized eigenvalues and eigenvectors.\n",
        "\n",
        "\n",
        "Taking $C = (A-\\mu B)^{-1}$\n",
        "\n",
        "$(A, B)$ and  $((A-\\mu B)^{-1}A,(A-\\mu B)^{-1}B)$ have the same generalized eigenvalues and eigenvectors and their spectra are equal."
      ],
      "metadata": {
        "id": "QAFjMG-f-LYT"
      },
      "id": "QAFjMG-f-LYT"
    },
    {
      "cell_type": "code",
      "execution_count": null,
      "id": "d4f3edee",
      "metadata": {
        "id": "d4f3edee"
      },
      "outputs": [],
      "source": [
        "# Your code is here"
      ]
    },
    {
      "cell_type": "code",
      "source": [
        "from scipy.linalg import solve, eigh\n",
        "\n",
        "def generalized_power_iteration (A, B, max_iter=1000, tol=1e-6):\n",
        "    n = A.shape[0]\n",
        "    x = np.random.rand(n)\n",
        "\n",
        "    for k in range(max_iter):\n",
        "        y = solve(B, x)\n",
        "        x = A @ y\n",
        "\n",
        "        energy_norm = np.sqrt(x.T @ A @ x)\n",
        "        x = x / energy_norm\n",
        "\n",
        "        lambda_estimate = (x @ A @ x) / (x @ B @ x)\n",
        "\n",
        "        if k > 0 and np.abs(lambda_estimate - lambda_prev) < tol:\n",
        "            break\n",
        "\n",
        "        lambda_prev = lambda_estimate\n",
        "\n",
        "    return lambda_estimate, x / np.linalg.norm(x)"
      ],
      "metadata": {
        "id": "OfNV5taOF_8Y"
      },
      "id": "OfNV5taOF_8Y",
      "execution_count": 29,
      "outputs": []
    },
    {
      "cell_type": "code",
      "source": [
        "import numpy as np\n",
        "from scipy.linalg import qr\n",
        "\n",
        "def block_power_method(A, B, k, max_iterations=1000, tol=1e-6):\n",
        "    n = A.shape[0]\n",
        "    X = np.zeros((n, k))\n",
        "    Q = np.zeros((n, k))\n",
        "\n",
        " # Initialize the block matrix and the vector\n",
        "    for i in range(k):\n",
        "        x = np.random.rand(n, 1)\n",
        "        X[:, i] = np.linalg.solve(B, x).flatten()\n",
        "        Q[:, i] = x.flatten()\n",
        "\n",
        " # Iterative process\n",
        "    for _ in range(max_iterations):\n",
        "        # Block update\n",
        "        for i in range(k):\n",
        "            x = np.linalg.solve(A - B*X[:, i:i+1], X[:, i:i+1]).flatten()\n",
        "            Q[:, i] = x\n",
        "            X[:, i] = np.linalg.solve(B, x).flatten()\n",
        "\n",
        "        # Orthogonalization\n",
        "        Q, _ = qr(Q)\n",
        "\n",
        "     # Check convergence\n",
        "        if check_convergence(A, B, Q, X, tol):\n",
        "            break\n",
        "\n",
        "    # Extract eigenvalues and eigenvectors\n",
        "    eigenvalues = np.dot(Q.T, A @ Q) / np.dot(Q.T, B @ Q)\n",
        "    eigenvectors = Q\n",
        "\n",
        "    return eigenvalues, eigenvectors\n",
        "\n",
        "def check_convergence(A, B, Q, X, tol=1e-6):\n",
        "    for i in range(Q.shape[1]):\n",
        "        x = Q[:, i]\n",
        "        lambda_ = np.dot(x.T, A @ x) / np.dot(x.T, B @ x)\n",
        "        if np.abs(np.dot(A @ x, x) - lambda_ * np.dot(B @ x, x)) > tol:\n",
        "            return False\n",
        "\n",
        "    return True\n"
      ],
      "metadata": {
        "id": "la9iCgs8zJ_p"
      },
      "id": "la9iCgs8zJ_p",
      "execution_count": 30,
      "outputs": []
    },
    {
      "cell_type": "code",
      "source": [
        "A = np.random.rand(3, 3)\n",
        "A = np.dot(A, A.transpose())\n",
        "B = np.random.rand(3, 3)\n",
        "B = np.dot(A, A.transpose())\n",
        "\n",
        "# Ensure input matrices are valid and do not contain NaN values\n",
        "assert np.all(np.isfinite(A))\n",
        "assert np.all(np.isfinite(B))\n",
        "\n",
        "# Compute eigenvalues and eigenvectors using block power iteration\n",
        "eigenvalues, eigenvectors = block_power_method(A, B, 3)\n",
        "\n",
        "eigenvalues = np.sort(eigenvalues)[0]\n",
        "\n",
        "# Check correctness using scipy.linalg.eigh\n",
        "scipy_eigenvalues, scipy_eigenvectors = eigh(A, B)\n",
        "\n",
        "print(\"Eigenvalues (Block Power Iteration):\", eigenvalues)\n",
        "print(\"Eigenvalues (scipy.linalg.eigh):\", scipy_eigenvalues)\n",
        "print(\"Difference in Eigenvalues:\", np.abs(eigenvalues - scipy_eigenvalues))\n"
      ],
      "metadata": {
        "colab": {
          "base_uri": "https://localhost:8080/"
        },
        "id": "_zgV_yBqzNFt",
        "outputId": "64db2864-571c-4330-a816-01c30e659210"
      },
      "id": "_zgV_yBqzNFt",
      "execution_count": 28,
      "outputs": [
        {
          "output_type": "stream",
          "name": "stdout",
          "text": [
            "Eigenvalues (Block Power Iteration): [ 0.32901063  1.49368729 23.22281461]\n",
            "Eigenvalues (scipy.linalg.eigh): [ 0.35534691  3.01763524 24.41584233]\n",
            "Difference in Eigenvalues: [0.02633627 1.52394795 1.19302771]\n"
          ]
        }
      ]
    },
    {
      "cell_type": "markdown",
      "id": "65d030ec",
      "metadata": {
        "id": "65d030ec"
      },
      "source": [
        "- You are further asked to test the developed algorithm on an arbitrary splitting of the MNIST dataset (import it from [keras](https://keras.io/api/datasets/mnist/), [PyTorch](https://pytorch.org/vision/stable/generated/torchvision.datasets.MNIST.html#torchvision.datasets.MNIST), etc). Test different values of $k$.\n",
        "- In addition, test it on synthetic data of known covariance.\n",
        "You can generate bivariate data with known covariance matrix through the multiplication of vectors from standard normal distribution by the Cholesky factor of the desired covariance matrix.\n",
        "Then split the generated bivaritate data into two univariate vectors. Run the prepared code and comment on the obtained results."
      ]
    },
    {
      "cell_type": "code",
      "execution_count": null,
      "id": "e10241bb",
      "metadata": {
        "id": "e10241bb"
      },
      "outputs": [],
      "source": [
        "# Your code is here"
      ]
    },
    {
      "cell_type": "code",
      "source": [
        "import numpy as np\n",
        "from scipy.linalg import cholesky\n",
        "from sklearn.model_selection import train_test_split\n",
        "from keras.datasets import mnist\n",
        "\n"
      ],
      "metadata": {
        "id": "sZTdRlN12l04"
      },
      "id": "sZTdRlN12l04",
      "execution_count": null,
      "outputs": []
    },
    {
      "cell_type": "code",
      "source": [
        "\n",
        "\n",
        "# Load the MNIST dataset\n",
        "(X_train, y_train), (X_test, y_test) = mnist.load_data()\n",
        "\n",
        "# Preprocess the data\n",
        "X_train = X_train / 255.0\n",
        "X_test = X_test / 255.0\n",
        "\n",
        "# Split the data into two univariate vectors\n",
        "X_train_1 = X_train.reshape(-1, 784)\n",
        "X_train_2 = X_train.reshape(-1, 784)\n",
        "\n",
        "# Compute the eigenvalues and eigenvectors using the block power method\n",
        "eigenvalues_1, eigenvectors_1 = block_power_method(X_train_1, X_train_2, 1)\n",
        "\n",
        "# Check the results\n",
        "print(\"Eigenvalues for X_train_1:\", eigenvalues_1)\n",
        "print(\"Eigenvectors for X_train_1:\", eigenvectors_1)\n",
        "\n",
        "\n",
        "# Generate synthetic data with known covariance\n",
        "cov = np.array([[1, 0.5], [0.5, 1]])\n",
        "chol = cholesky(cov)\n",
        "x1 = np.random.normal(size=1000)\n",
        "x2 = np.random.normal(size=1000)\n",
        "X_synthetic_1 = chol[0, 0] * x1 + chol[0, 1] * x2\n",
        "X_synthetic_2 = chol[1, 0] * x1 + chol[1, 1] * x2\n",
        "\n",
        "# Test the block power method with different values of k\n",
        "for k in range(1, 4):\n",
        "   # Compute the eigenvalues and eigenvectors using the block power method\n",
        "   eigenvalues_1, eigenvectors_1 = block_power_method(X_train_1, X_train_2, k)\n",
        "   eigenvalues_synthetic, eigenvectors_synthetic = block_power_method(X_synthetic_1, X_synthetic_2, k)\n",
        "\n",
        "   # Check the results\n",
        "   print(f\"Eigenvalues for X_train_1 with k={k}:\", eigenvalues_1)\n",
        "   print(f\"Eigenvalues for synthetic data with k={k}:\", eigenvalues_synthetic)\n"
      ],
      "metadata": {
        "id": "RfW0M_Ha5VE-"
      },
      "id": "RfW0M_Ha5VE-",
      "execution_count": null,
      "outputs": []
    },
    {
      "cell_type": "code",
      "source": [],
      "metadata": {
        "id": "7-7SGLym6tw4"
      },
      "id": "7-7SGLym6tw4",
      "execution_count": null,
      "outputs": []
    }
  ],
  "metadata": {
    "kernelspec": {
      "display_name": "Python 3 (ipykernel)",
      "language": "python",
      "name": "python3"
    },
    "language_info": {
      "codemirror_mode": {
        "name": "ipython",
        "version": 3
      },
      "file_extension": ".py",
      "mimetype": "text/x-python",
      "name": "python",
      "nbconvert_exporter": "python",
      "pygments_lexer": "ipython3",
      "version": "3.10.6"
    },
    "colab": {
      "provenance": []
    }
  },
  "nbformat": 4,
  "nbformat_minor": 5
}