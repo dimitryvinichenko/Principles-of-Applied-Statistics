{
 "cells": [
  {
   "cell_type": "markdown",
   "metadata": {},
   "source": [
    "b"
   ]
  },
  {
   "cell_type": "markdown",
   "metadata": {},
   "source": [
    "In this homework, you need to solve two tasks. For problems with theoretical calculations, you need to show a sufficient number of intermediate steps to explain how you have obtained the result. \n",
    "* Formulas are expected in Latex style inside the notebook. The assignment should be uploaded in Jupyter Notebook format(`.ipynb`). \n",
    "* Overall, there are 45 points, however, you can get a maximum of 40 points for this assignment( `your_points = max(your_points, 40)`). \n",
    "* No bonus points will be transferred to the next assignment."
   ]
  },
  {
   "cell_type": "markdown",
   "metadata": {},
   "source": [
    "# Task 1. Moscow weather (20 points)"
   ]
  },
  {
   "cell_type": "markdown",
   "metadata": {},
   "source": [
    "In this task you need to estimate parameters and their confidence intervals for a given sample. As data, you will explore Moscow weather. You can look at some visualizations of martian weather [here](https://pudding.cool/2018/01/mars-weather/) (completely unrelated to Moscow weather, though).\n",
    "\n",
    "First of all, you will need some libraries. Also, fix random seed to get reproducable results."
   ]
  },
  {
   "cell_type": "code",
   "execution_count": 11,
   "metadata": {},
   "outputs": [],
   "source": [
    "import numpy as np\n",
    "from numpy.random import choice, seed\n",
    "import pandas as pd\n",
    "from scipy.stats import sem, norm, skew, chi2\n",
    "import matplotlib.pyplot as plt\n",
    "from tqdm import tqdm\n",
    "import scipy.stats as st \n",
    "\n",
    "\n",
    "seed(123)\n",
    "%matplotlib inline"
   ]
  },
  {
   "cell_type": "code",
   "execution_count": 2,
   "metadata": {
    "tags": []
   },
   "outputs": [],
   "source": [
    "import matplotlib as mp\n",
    "import matplotlib.font_manager\n",
    "import matplotlib.pyplot as plt\n",
    "\n",
    "titlesize = 20\n",
    "labelsize = 16\n",
    "legendsize = labelsize\n",
    "xticksize = 14\n",
    "yticksize = xticksize\n",
    "\n",
    "mp.rcParams['legend.markerscale'] = 1.5     # the relative size of legend markers vs. original\n",
    "mp.rcParams['legend.handletextpad'] = 0.5\n",
    "mp.rcParams['legend.labelspacing'] = 0.4    # the vertical space between the legend entries in fraction of fontsize\n",
    "mp.rcParams['legend.borderpad'] = 0.5       # border whitespace in fontsize units\n",
    "mp.rcParams['font.size'] = 12\n",
    "mp.rcParams['font.family'] = 'serif'\n",
    "mp.rcParams['font.serif'] = 'Times New Roman'\n",
    "mp.rcParams['axes.labelsize'] = labelsize\n",
    "mp.rcParams['axes.titlesize'] = titlesize\n",
    "mp.rcParams['axes.unicode_minus'] = False\n",
    "\n",
    "mp.rc('xtick', labelsize=xticksize)\n",
    "mp.rc('ytick', labelsize=yticksize)\n",
    "mp.rc('legend', fontsize=legendsize)\n",
    "\n",
    "mp.rc('font', **{'family':'serif'})"
   ]
  },
  {
   "cell_type": "markdown",
   "metadata": {},
   "source": [
    "## Part 1. Load data (1 point)\n",
    "\n",
    "You need to load data from `moscow-weather.csv`, take feature for your variant, remove absent values (`Nan`s) and convert sample to `int` type. "
   ]
  },
  {
   "cell_type": "markdown",
   "metadata": {},
   "source": [
    "### a) \n",
    "\n",
    "`feature_name = \"TMIN\"`"
   ]
  },
  {
   "cell_type": "markdown",
   "metadata": {},
   "source": [
    "### b)\n",
    "\n",
    "`feature_name = \"TMAX\"`"
   ]
  },
  {
   "cell_type": "code",
   "execution_count": 3,
   "metadata": {},
   "outputs": [],
   "source": [
    "feature_name = \"TMAX\"\n",
    "df = pd.read_csv(\"moscow-weather.csv\")[feature_name]\n",
    "sample_full = df.dropna().values.astype(int)"
   ]
  },
  {
   "cell_type": "markdown",
   "metadata": {},
   "source": [
    "Let's take a five month period or ~ 150 days. Sample them randomly from full sample using function `choice`(from `numpy.random`) with parameter `replace=False`."
   ]
  },
  {
   "cell_type": "code",
   "execution_count": 4,
   "metadata": {},
   "outputs": [
    {
     "data": {
      "text/plain": [
       "array([ 18,   2,  24,  26,  25,   0,  29,  30,  10, -15,  21,  16,   5,\n",
       "         0,  18,   1, -18,  10,  -1,  24,  14,  23,  21,  -5,  23,  28,\n",
       "        13,  24,  17,   9,   7,   9,  21,  28,   0,  23,  20,  21,  16,\n",
       "        21,   2,  24,   0,  13,  -3,  -5,  24,  18,  23,   5,   7,  23,\n",
       "         2,   3, -15,  17,  26,  22,  24,  30,   2,   3, -11, -14,  10,\n",
       "        -2,   1,   0,  -8,  16,  -3,  13,  17,  27,  23,   9,  17,   8,\n",
       "         3,  21,  -9,  20,   4,  14,  25,  21,  26,  16,   9,   6,   1,\n",
       "        17,  24,  20,   8,  14,  26,  16,   0,  23,  -9,  31,  -4,   3,\n",
       "       -11,  -3,  20,  10,  -1,  25,  21, -10,   7,   0,  15,  -1,  29,\n",
       "        27,  -5,  10,   6,  13,  32,   2,  26,   8,   4,   0,  28,   8,\n",
       "        12,   5,  -2,  13,  -4,   2,   6, -10,  25,  20,   6,  26,   8,\n",
       "        21,   3,   2,  18,   0,  -1,  23])"
      ]
     },
     "execution_count": 4,
     "metadata": {},
     "output_type": "execute_result"
    }
   ],
   "source": [
    "N = 150\n",
    "\n",
    "sample_part = np.random.choice(sample_full, size=N, replace=False)\n",
    "\n",
    "sample_part"
   ]
  },
  {
   "cell_type": "markdown",
   "metadata": {},
   "source": [
    "Plot values frequences for full and partial sample using bar plot."
   ]
  },
  {
   "cell_type": "code",
   "execution_count": 5,
   "metadata": {},
   "outputs": [
    {
     "name": "stderr",
     "output_type": "stream",
     "text": [
      "findfont: Generic family 'serif' not found because none of the following families were found: Times New Roman\n",
      "findfont: Generic family 'serif' not found because none of the following families were found: Times New Roman\n",
      "findfont: Generic family 'serif' not found because none of the following families were found: Times New Roman\n",
      "findfont: Generic family 'serif' not found because none of the following families were found: Times New Roman\n",
      "findfont: Generic family 'serif' not found because none of the following families were found: Times New Roman\n",
      "findfont: Generic family 'serif' not found because none of the following families were found: Times New Roman\n",
      "findfont: Generic family 'serif' not found because none of the following families were found: Times New Roman\n",
      "findfont: Generic family 'serif' not found because none of the following families were found: Times New Roman\n",
      "findfont: Generic family 'serif' not found because none of the following families were found: Times New Roman\n",
      "findfont: Generic family 'serif' not found because none of the following families were found: Times New Roman\n",
      "findfont: Generic family 'serif' not found because none of the following families were found: Times New Roman\n",
      "findfont: Generic family 'serif' not found because none of the following families were found: Times New Roman\n",
      "findfont: Generic family 'serif' not found because none of the following families were found: Times New Roman\n",
      "findfont: Generic family 'serif' not found because none of the following families were found: Times New Roman\n",
      "findfont: Generic family 'serif' not found because none of the following families were found: Times New Roman\n",
      "findfont: Generic family 'serif' not found because none of the following families were found: Times New Roman\n",
      "findfont: Generic family 'serif' not found because none of the following families were found: Times New Roman\n",
      "findfont: Generic family 'serif' not found because none of the following families were found: Times New Roman\n",
      "findfont: Generic family 'serif' not found because none of the following families were found: Times New Roman\n",
      "findfont: Generic family 'serif' not found because none of the following families were found: Times New Roman\n",
      "findfont: Generic family 'serif' not found because none of the following families were found: Times New Roman\n",
      "findfont: Generic family 'serif' not found because none of the following families were found: Times New Roman\n",
      "findfont: Generic family 'serif' not found because none of the following families were found: Times New Roman\n",
      "findfont: Generic family 'serif' not found because none of the following families were found: Times New Roman\n",
      "findfont: Generic family 'serif' not found because none of the following families were found: Times New Roman\n",
      "findfont: Generic family 'serif' not found because none of the following families were found: Times New Roman\n",
      "findfont: Generic family 'serif' not found because none of the following families were found: Times New Roman\n",
      "findfont: Generic family 'serif' not found because none of the following families were found: Times New Roman\n",
      "findfont: Generic family 'serif' not found because none of the following families were found: Times New Roman\n",
      "findfont: Generic family 'serif' not found because none of the following families were found: Times New Roman\n",
      "findfont: Generic family 'serif' not found because none of the following families were found: Times New Roman\n",
      "findfont: Generic family 'serif' not found because none of the following families were found: Times New Roman\n",
      "findfont: Generic family 'serif' not found because none of the following families were found: Times New Roman\n",
      "findfont: Generic family 'serif' not found because none of the following families were found: Times New Roman\n",
      "findfont: Generic family 'serif' not found because none of the following families were found: Times New Roman\n",
      "findfont: Generic family 'serif' not found because none of the following families were found: Times New Roman\n",
      "findfont: Generic family 'serif' not found because none of the following families were found: Times New Roman\n",
      "findfont: Generic family 'serif' not found because none of the following families were found: Times New Roman\n",
      "findfont: Generic family 'serif' not found because none of the following families were found: Times New Roman\n",
      "findfont: Generic family 'serif' not found because none of the following families were found: Times New Roman\n",
      "findfont: Generic family 'serif' not found because none of the following families were found: Times New Roman\n",
      "findfont: Generic family 'serif' not found because none of the following families were found: Times New Roman\n",
      "findfont: Generic family 'serif' not found because none of the following families were found: Times New Roman\n",
      "findfont: Generic family 'serif' not found because none of the following families were found: Times New Roman\n"
     ]
    },
    {
     "data": {
      "image/png": "[encoded data removed]",
      "text/plain": [
       "<Figure size 1500x600 with 1 Axes>"
      ]
     },
     "metadata": {},
     "output_type": "display_data"
    }
   ],
   "source": [
    "plt.figure(figsize=(15, 6))\n",
    "\n",
    "n = np.unique(sample_full)\n",
    "plt.hist(x=sample_full, bins=n, color='mediumaquamarine')\n",
    "plt.title(' sample_full')\n",
    "plt.grid()\n",
    "plt.show()"
   ]
  },
  {
   "cell_type": "code",
   "execution_count": 6,
   "metadata": {},
   "outputs": [
    {
     "name": "stderr",
     "output_type": "stream",
     "text": [
      "findfont: Generic family 'serif' not found because none of the following families were found: Times New Roman\n",
      "findfont: Generic family 'serif' not found because none of the following families were found: Times New Roman\n",
      "findfont: Generic family 'serif' not found because none of the following families were found: Times New Roman\n",
      "findfont: Generic family 'serif' not found because none of the following families were found: Times New Roman\n",
      "findfont: Generic family 'serif' not found because none of the following families were found: Times New Roman\n",
      "findfont: Generic family 'serif' not found because none of the following families were found: Times New Roman\n",
      "findfont: Generic family 'serif' not found because none of the following families were found: Times New Roman\n",
      "findfont: Generic family 'serif' not found because none of the following families were found: Times New Roman\n",
      "findfont: Generic family 'serif' not found because none of the following families were found: Times New Roman\n",
      "findfont: Generic family 'serif' not found because none of the following families were found: Times New Roman\n",
      "findfont: Generic family 'serif' not found because none of the following families were found: Times New Roman\n",
      "findfont: Generic family 'serif' not found because none of the following families were found: Times New Roman\n",
      "findfont: Generic family 'serif' not found because none of the following families were found: Times New Roman\n",
      "findfont: Generic family 'serif' not found because none of the following families were found: Times New Roman\n",
      "findfont: Generic family 'serif' not found because none of the following families were found: Times New Roman\n",
      "findfont: Generic family 'serif' not found because none of the following families were found: Times New Roman\n",
      "findfont: Generic family 'serif' not found because none of the following families were found: Times New Roman\n",
      "findfont: Generic family 'serif' not found because none of the following families were found: Times New Roman\n",
      "findfont: Generic family 'serif' not found because none of the following families were found: Times New Roman\n",
      "findfont: Generic family 'serif' not found because none of the following families were found: Times New Roman\n",
      "findfont: Generic family 'serif' not found because none of the following families were found: Times New Roman\n",
      "findfont: Generic family 'serif' not found because none of the following families were found: Times New Roman\n",
      "findfont: Generic family 'serif' not found because none of the following families were found: Times New Roman\n",
      "findfont: Generic family 'serif' not found because none of the following families were found: Times New Roman\n",
      "findfont: Generic family 'serif' not found because none of the following families were found: Times New Roman\n",
      "findfont: Generic family 'serif' not found because none of the following families were found: Times New Roman\n",
      "findfont: Generic family 'serif' not found because none of the following families were found: Times New Roman\n",
      "findfont: Generic family 'serif' not found because none of the following families were found: Times New Roman\n",
      "findfont: Generic family 'serif' not found because none of the following families were found: Times New Roman\n",
      "findfont: Generic family 'serif' not found because none of the following families were found: Times New Roman\n",
      "findfont: Generic family 'serif' not found because none of the following families were found: Times New Roman\n",
      "findfont: Generic family 'serif' not found because none of the following families were found: Times New Roman\n",
      "findfont: Generic family 'serif' not found because none of the following families were found: Times New Roman\n",
      "findfont: Generic family 'serif' not found because none of the following families were found: Times New Roman\n",
      "findfont: Generic family 'serif' not found because none of the following families were found: Times New Roman\n",
      "findfont: Generic family 'serif' not found because none of the following families were found: Times New Roman\n",
      "findfont: Generic family 'serif' not found because none of the following families were found: Times New Roman\n",
      "findfont: Generic family 'serif' not found because none of the following families were found: Times New Roman\n"
     ]
    },
    {
     "data": {
      "image/png": "[encoded data removed]",
      "text/plain": [
       "<Figure size 1500x600 with 1 Axes>"
      ]
     },
     "metadata": {},
     "output_type": "display_data"
    }
   ],
   "source": [
    "plt.figure(figsize=(15, 6))\n",
    "\n",
    "n = np.unique(sample_part)\n",
    "plt.hist(x=sample_part, bins=n, color='mediumaquamarine')\n",
    "plt.title(' sample_part')\n",
    "plt.grid()\n",
    "plt.show()"
   ]
  },
  {
   "cell_type": "markdown",
   "metadata": {},
   "source": [
    "## Part 2. Parameter estimation (6 points)\n",
    "Find the following parameters' estimates and their 95% confidence intervals (except for `mode` and `skewness`). You need to show theoretical calculations (with intermediate steps) for estimates and intervals (with intermediate steps) and then make simulation."
   ]
  },
  {
   "cell_type": "markdown",
   "metadata": {},
   "source": [
    "### a) Mean and CI"
   ]
  },
  {
   "cell_type": "markdown",
   "metadata": {},
   "source": [
    "$$ \\hat{mean}_n = \\sum \\frac{1}{n} \\mu = \\mu$$\n",
    "\n",
    "$$\\mu = \\int x f(x) dx = \\int x \\frac{1}{n} \\sum_{i = 1}^n \\delta(x - X_i) = \\frac{1}{N} \\sum_{i = 1}^{N} X_i $$\n",
    "\n",
    "$$\\hat{V}_{n}(\\hat{\\mu}_n) = \\frac{\\hat{\\sigma}^{2}_n}{n}$$\n",
    "\n",
    "$$\\hat{\\sigma}_n = E[(x - \\mu)^2] = \\int f(x) (x - \\hat{\\mu}_n)^2dx = \\int \\frac{1}{n} \\sum \\delta(x - X_i)(x - \\hat{\\mu}_n)^2 dx = \\frac{1}{n} \\sum(X_i - \\hat{\\mu}_n)^2$$\n",
    "It gives us based varianse estimation. In order to gen unbaised estimation we need to renormalize expression\n",
    "$$\\hat{\\sigma}_n  = \\frac{1}{n - 1} \\sum(X_i - \\hat{\\mu}_n)^2$$\n",
    "\n",
    "### $$ CI(\\hat{mean}) = (\\hat{\\mu}_n - z_{\\frac{\\alpha}{2}} \\hat{se}, \\hat{\\mu}_n + z_{\\frac{\\alpha}{2}} \\hat{se})$$\n",
    "\n",
    "$$\\hat{se} = \\sqrt{V(\\hat{\\mu}_n)} = \\frac{\\hat{\\sigma}_n }{\\sqrt{n}} = \\frac{1}{\\sqrt{n(n-1)}} \\sum(X_i - \\hat{\\mu}_n)^2$$\n",
    "\n",
    "$$z_{\\frac{\\alpha}{2}} = \\Phi^{-1}\\left(1-\\frac{\\alpha}{2} \\right)$$"
   ]
  },
  {
   "cell_type": "code",
   "execution_count": 23,
   "metadata": {},
   "outputs": [
    {
     "data": {
      "text/plain": [
       "'Mean 11.100 with confidence interval (9.187, 13.013)'"
      ]
     },
     "execution_count": 23,
     "metadata": {},
     "output_type": "execute_result"
    }
   ],
   "source": [
    "# Your code here\n",
    "\n",
    "\n",
    "mean, (lower, upper) = np.mean(sample_part), st.norm.interval(0.95, loc=np.mean(sample_part), scale=st.sem(sample_part)) \n",
    "\n",
    "\n",
    "f\"Mean {mean:.3f} with confidence interval ({lower:.3f}, {upper:.3f})\""
   ]
  },
  {
   "cell_type": "markdown",
   "metadata": {},
   "source": [
    "### b) Median and CI\n",
    "\n",
    "Here you can assume that PDF is continuous at the median point and provide a normal-based interval.\n",
    "\n",
    "We know from lecture that \n",
    "$$ \\hat{median} = {sample med} \\sim   N \\left( m, \\frac{\\pi}{2} \\frac{\\sigma^2}{n} \\right)$$\n",
    "where m is median \n",
    "\n",
    "$$ CI(\\hat{median}) = \\left(\\hat{median}−z_{\\frac{\\alpha}{2}}\\sqrt{\\frac{\\pi}{2n}}\\sigma_n;\\; \\hat{median}+z_{\\frac{\\alpha}{2}}\\sqrt{\\frac{\\pi}{2n}} \\sigma_n\\right)$$"
   ]
  },
  {
   "cell_type": "code",
   "execution_count": 22,
   "metadata": {},
   "outputs": [
    {
     "data": {
      "text/plain": [
       "'Median 11.000 with normal-based confidence interval (8.602, 13.398)'"
      ]
     },
     "execution_count": 22,
     "metadata": {},
     "output_type": "execute_result"
    }
   ],
   "source": [
    "# Your code here\n",
    "\n",
    "median, (lower, upper) = np.median(sample_part), st.norm.interval(0.95, loc=np.median(sample_part), scale=(np.pi / (2 * len(sample_part)))**(1/2) * (np.var(sample_part, ddof=1))**(1/2))\n",
    "f\"Median {median:.3f} with normal-based confidence interval ({lower:.3f}, {upper:.3f})\""
   ]
  },
  {
   "cell_type": "markdown",
   "metadata": {},
   "source": [
    "### c) Variance and CI\n",
    "\n",
    "Here you can assume that the sample comes from a normal distribution, but the mean and variance are not known.\n",
    "\n",
    "We will use maximum likelihood estimation\n",
    "\n",
    "$$\\mathcal{L} = \\prod_{i = 1}^{n}\\frac{1}{\\sigma} exp\\left(-\\frac{1}{2\\sigma^2} (X_i - \\mu)^2\\right) = \\frac{1}{\\sigma^n} exp\\left(-\\frac{1}{2\\sigma^2} \\sum_{i=1}^n(X_i - \\mu)^2\\right) = \\frac{1}{\\sigma^n} exp\\left(-\\frac{nS_n^2}{2\\sigma^2}\\right) exp\\left(-\\frac{n(\\overline{X}_n - \\mu)^2}{2\\sigma^2}\\right)$$\n",
    "\n",
    "where $\\overline{X}_n = \\frac{1}{n} \\sum X_i$ and $S_n^2 = \\frac{1}{n} \\sum (X_i - \\overline{X}_n)^2$\n",
    "\n",
    "$$l_n(\\mu, \\sigma) = -nlog(\\sigma) - \\frac{nS_N^2}{2\\sigma^2} - \\frac{n(\\overline{X}_n - \\mu)^2}{2\\sigma^2}$$\n",
    "\n",
    "Differeciating over $\\mu$ and $\\sigma $ we get estimation\n",
    "$$ \\hat{Variance} = S_n^2$$\n",
    "$$\\mu = \\overline{X}_n$$\n",
    "\n",
    "$$\\hat{se} = \\left(\\frac{1}{I_n(\\hat{V_n})} \\right)^{1/2}$$\n",
    "\n",
    "\\begin{aligned}\n",
    "\\log f(X;\\sigma)& =-\\log\\sigma-\\frac{(X-\\mu)^{2}}{2\\sigma^{2}}  \\\\\n",
    "\\frac{\\partial^{2}\\log f(X;\\sigma)}{\\partial\\sigma^{2}}& =\\frac{1}{\\sigma^{2}}-\\frac{3(X-\\mu)^{2}}{\\sigma^{4}},  \\\\\n",
    "I(\\sigma)=-\\frac{1}{\\sigma^{2}}& +\\frac{3\\sigma^{2}}{\\sigma^{4}}=\\frac{2}{\\sigma^{2}}. \n",
    "\\end{aligned}\n",
    "\n",
    "$$\\widehat{s}e=\\frac{\\widehat{\\sigma}_{n}}{\\sqrt{2n}}$$\n",
    "\n",
    "$$ CI(\\hat{Variance}) = \\left(S_n^2−z_{\\frac{\\alpha}{2}}\\sqrt{\\frac{1}{2n}}S_n;\\; S_n^2+z_{\\frac{\\alpha}{2}}\\sqrt{\\frac{1}{2n}} S_n\\right)$$"
   ]
  },
  {
   "cell_type": "code",
   "execution_count": 24,
   "metadata": {},
   "outputs": [
    {
     "data": {
      "text/plain": [
       "'Variance 141.957 with confidence interval (140.608, 143.305)'"
      ]
     },
     "execution_count": 24,
     "metadata": {},
     "output_type": "execute_result"
    }
   ],
   "source": [
    "# Your code here\n",
    "\n",
    "var, (lower, upper) = np.var(sample_part, ddof=0), st.norm.interval(0.95, loc=np.var(sample_part, ddof=0), scale=(1 / (2 * len(sample_part)))**(1/2) * (np.var(sample_part, ddof=0))**(1/2))\n",
    "f\"Variance {var:.3f} with confidence interval ({lower:.3f}, {upper:.3f})\""
   ]
  },
  {
   "cell_type": "markdown",
   "metadata": {},
   "source": [
    "### d) Mode (most frequent value in a sample)"
   ]
  },
  {
   "cell_type": "code",
   "execution_count": 25,
   "metadata": {},
   "outputs": [
    {
     "data": {
      "text/plain": [
       "'Mode: 0'"
      ]
     },
     "execution_count": 25,
     "metadata": {},
     "output_type": "execute_result"
    }
   ],
   "source": [
    "# Your code here\n",
    "\n",
    "mode = max(set(sample_part), key=sample_part.tolist().count)\n",
    "f\"Mode: {mode}\""
   ]
  },
  {
   "cell_type": "markdown",
   "metadata": {},
   "source": [
    "### e) Skewness"
   ]
  },
  {
   "cell_type": "code",
   "execution_count": 26,
   "metadata": {},
   "outputs": [
    {
     "data": {
      "text/plain": [
       "'Skewness: -2.538610e-01'"
      ]
     },
     "execution_count": 26,
     "metadata": {},
     "output_type": "execute_result"
    }
   ],
   "source": [
    "# Your code here\n",
    "\n",
    "skewness = skew(sample_part)\n",
    "f\"Skewness: {skewness:e}\""
   ]
  },
  {
   "cell_type": "markdown",
   "metadata": {},
   "source": [
    "## Part 3. Bootstrap (4 points)\n",
    "\n",
    "Find confidence intervals for following estimates using bootsrap. Use function `choice` with parameter `replace=True` for bootstrap sampling. Try different numbers of generated samples."
   ]
  },
  {
   "cell_type": "markdown",
   "metadata": {},
   "source": [
    "### a) Mean and CI"
   ]
  },
  {
   "cell_type": "code",
   "execution_count": 37,
   "metadata": {},
   "outputs": [
    {
     "data": {
      "text/plain": [
       "'Mean 11.123 with confident interval (9.141, 13.106)'"
      ]
     },
     "execution_count": 37,
     "metadata": {},
     "output_type": "execute_result"
    }
   ],
   "source": [
    "# Your code here\n",
    "N = 1000\n",
    "bootstrap_mean = np.array([])\n",
    "for _ in range(N):\n",
    "    bootstrap_sample = np.random.choice(sample_part, size=int(np.shape(sample_part)[0]), replace=True)\n",
    "    mean = np.mean(bootstrap_sample)\n",
    "    bootstrap_mean = np.append(bootstrap_mean, mean)\n",
    "\n",
    "mean = np.mean(bootstrap_mean)\n",
    "std = np.std(bootstrap_mean, ddof=1)\n",
    "\n",
    "mean, (lower, upper) = mean, st.norm.interval(0.95, loc=mean, scale=std)\n",
    "\n",
    "f\"Mean {mean:.3f} with confident interval ({lower:.3f}, {upper:.3f})\""
   ]
  },
  {
   "cell_type": "markdown",
   "metadata": {},
   "source": [
    "### b) Median and CI"
   ]
  },
  {
   "cell_type": "code",
   "execution_count": 42,
   "metadata": {},
   "outputs": [
    {
     "data": {
      "text/plain": [
       "'Median 11.000 with normal-based confident interval (7.222, 15.772)'"
      ]
     },
     "execution_count": 42,
     "metadata": {},
     "output_type": "execute_result"
    }
   ],
   "source": [
    "# Your code here\n",
    "\n",
    "\n",
    "N = 1000\n",
    "bootstrap_med = np.array([])\n",
    "for _ in range(N):\n",
    "    bootstrap_sample = np.random.choice(sample_part, size=int(np.shape(sample_part)[0]), replace=True)\n",
    "    med = np.median(bootstrap_sample)\n",
    "    bootstrap_med = np.append(bootstrap_med, med)\n",
    "\n",
    "med = np.mean(bootstrap_med)\n",
    "std = np.std(bootstrap_med, ddof=1)\n",
    "\n",
    "\n",
    "med, (lower, upper) =  med, st.norm.interval(0.95, loc=med, scale=std)\n",
    "f\"Median {median:.3f} with normal-based confident interval ({lower:.3f}, {upper:.3f})\""
   ]
  },
  {
   "cell_type": "markdown",
   "metadata": {},
   "source": [
    "### c) Variance and CI"
   ]
  },
  {
   "cell_type": "code",
   "execution_count": 47,
   "metadata": {},
   "outputs": [
    {
     "data": {
      "text/plain": [
       "'Variance 141.364 with confident interval (117.439, 165.288)'"
      ]
     },
     "execution_count": 47,
     "metadata": {},
     "output_type": "execute_result"
    }
   ],
   "source": [
    "# Your code here\n",
    "\n",
    "\n",
    "N = 1000\n",
    "bootstrap_var = np.array([])\n",
    "for _ in range(N):\n",
    "    bootstrap_sample = np.random.choice(sample_part, size=int(np.shape(sample_part)[0]), replace=True)\n",
    "    var = np.var(bootstrap_sample)\n",
    "    bootstrap_var = np.append(bootstrap_var, var)\n",
    "\n",
    "var = np.mean(bootstrap_var)\n",
    "std = np.std(bootstrap_var, ddof=1)\n",
    "\n",
    "\n",
    "var, (lower, upper) = var, st.norm.interval(0.95, loc=var, scale=std)\n",
    "f\"Variance {var:.3f} with confident interval ({lower:.3f}, {upper:.3f})\""
   ]
  },
  {
   "cell_type": "markdown",
   "metadata": {},
   "source": [
    "## Part 4. Comparison with true values (1 point)\n",
    "\n",
    "Compare with estimates calculated over full sample. Write conclusion about estimates and their confidence intervals obtained without and with bootstrap. Also, you can share some conclusions about moscow weather :)"
   ]
  },
  {
   "cell_type": "code",
   "execution_count": 48,
   "metadata": {},
   "outputs": [
    {
     "name": "stdout",
     "output_type": "stream",
     "text": [
      "Mean full sample           10.136\n",
      "Mean bootstrap sample      11.100\n",
      "\n",
      "Median full sample         10.000\n",
      "Median bootstrap sample    11.000\n",
      "\n",
      "Variance full sample       129.638\n",
      "Variance bootstrap sample  142.909\n",
      "\n",
      "Mode full sample           0.000\n",
      "Mode bootstrap sample      0.000\n",
      "\n",
      "Skewness full sample       -0.081\n",
      "Skewness bootstrap sample  -0.254\n",
      "\n"
     ]
    }
   ],
   "source": [
    "# Your code here\n",
    "\n",
    "mean_full = np.mean(sample_full)\n",
    "median_full = np.median(sample_full)\n",
    "var_full = np.var(sample_full, ddof=1)\n",
    "mode_full = max(set(sample_full), key=sample_full.tolist().count)\n",
    "skewness_full = skew(sample_full)\n",
    "mean = np.mean(sample_part)\n",
    "median = np.median(sample_part)\n",
    "var = np.var(sample_part, ddof=1)\n",
    "mode = max(set(sample_part), key=sample_part.tolist().count)\n",
    "skewness = skew(sample_part)\n",
    "\n",
    "print(f\"Mean full sample           {mean_full:.3f}\\n \"\n",
    "      f\"Mean bootstrap sample      {mean:.3f}\\n\\n\"\n",
    "      f\"Median full sample         {median_full:.3f}\\n\"\n",
    "      f\"Median bootstrap sample    {median:.3f}\\n\\n\"\n",
    "      f\"Variance full sample       {var_full:.3f}\\n\"\n",
    "      f\"Variance bootstrap sample  {var:.3f}\\n\\n\"\n",
    "      f\"Mode full sample           {mode_full:.3f}\\n\"\n",
    "      f\"Mode bootstrap sample      {mode:.3f}\\n\\n\"\n",
    "      f\"Skewness full sample       {skewness_full:.3f}\\n\"\n",
    "      f\"Skewness bootstrap sample  {skewness:.3f}\\n\")"
   ]
  },
  {
   "cell_type": "markdown",
   "metadata": {},
   "source": [
    "## Part 5. Confidence intervals and sample size (8 points)\n",
    "\n",
    "Compare the size of confidence intervals **for the mean** obtained without and with bootstrap. Additionally, compare the empirical coverage of different confidence intervals (by generating sufficient number of samples of corresponding size and calculating proportion of cases when the interval covers the mean of the full sample). Consider sizes `[32, 64, 128, 256, 512, 1024]`. Plot results and make conclusion about their accuracy."
   ]
  },
  {
   "cell_type": "code",
   "execution_count": 50,
   "metadata": {},
   "outputs": [],
   "source": [
    "seed(1337)\n",
    "sizes = np.r_[32, 64, 128, 256, 512, 1024]"
   ]
  },
  {
   "cell_type": "code",
   "execution_count": 60,
   "metadata": {},
   "outputs": [],
   "source": [
    "# Compare size of confidence intervals obtained without and with bootstrap\n",
    "# Your code here\n",
    "\n",
    "N = 1000\n",
    "\n",
    "mean_intervals = np.array([])\n",
    "bootstrap_mean_intervals = np.array([])\n",
    "\n",
    "for size in sizes:\n",
    "\n",
    "    sample = np.random.choice(sample_full, size=size, replace=False) \n",
    "    \n",
    "    mean = np.mean(sample)\n",
    "    std_error = sem(sample)\n",
    "    z = 1.96\n",
    "    lower = mean - z * std_error\n",
    "    upper = mean + z * std_error\n",
    "    mean_intervals = np.append(mean_intervals, upper - lower)\n",
    "\n",
    "    bootstrap_means = np.array([])\n",
    "    for _ in range(N):\n",
    "        bootstrap_sample = np.random.choice(sample, size=size, replace=True)\n",
    "        bootstrap_mean = np.mean(bootstrap_sample)\n",
    "        bootstrap_means = np.append(bootstrap_means, bootstrap_mean)\n",
    "\n",
    "\n",
    "    bootstrap_mean = np.mean(bootstrap_means)\n",
    "    bootstrap_std = np.std(bootstrap_means, ddof=1)\n",
    "    bootstrap_error = bootstrap_std \n",
    "    lower = bootstrap_mean - z * bootstrap_error\n",
    "    upper = bootstrap_mean + z * bootstrap_error\n",
    "    bootstrap_mean_intervals = np.append(bootstrap_mean_intervals, upper - lower)"
   ]
  },
  {
   "cell_type": "code",
   "execution_count": 62,
   "metadata": {},
   "outputs": [
    {
     "name": "stderr",
     "output_type": "stream",
     "text": [
      "findfont: Generic family 'serif' not found because none of the following families were found: Times New Roman\n",
      "findfont: Generic family 'serif' not found because none of the following families were found: Times New Roman\n",
      "findfont: Generic family 'serif' not found because none of the following families were found: Times New Roman\n",
      "findfont: Generic family 'serif' not found because none of the following families were found: Times New Roman\n",
      "findfont: Generic family 'serif' not found because none of the following families were found: Times New Roman\n",
      "findfont: Generic family 'serif' not found because none of the following families were found: Times New Roman\n",
      "findfont: Generic family 'serif' not found because none of the following families were found: Times New Roman\n",
      "findfont: Generic family 'serif' not found because none of the following families were found: Times New Roman\n",
      "findfont: Generic family 'serif' not found because none of the following families were found: Times New Roman\n",
      "findfont: Generic family 'serif' not found because none of the following families were found: Times New Roman\n",
      "findfont: Generic family 'serif' not found because none of the following families were found: Times New Roman\n",
      "findfont: Generic family 'serif' not found because none of the following families were found: Times New Roman\n",
      "findfont: Generic family 'serif' not found because none of the following families were found: Times New Roman\n",
      "findfont: Generic family 'serif' not found because none of the following families were found: Times New Roman\n",
      "findfont: Generic family 'serif' not found because none of the following families were found: Times New Roman\n",
      "findfont: Generic family 'serif' not found because none of the following families were found: Times New Roman\n",
      "findfont: Generic family 'serif' not found because none of the following families were found: Times New Roman\n",
      "findfont: Generic family 'serif' not found because none of the following families were found: Times New Roman\n",
      "findfont: Generic family 'serif' not found because none of the following families were found: Times New Roman\n",
      "findfont: Generic family 'serif' not found because none of the following families were found: Times New Roman\n",
      "findfont: Generic family 'serif' not found because none of the following families were found: Times New Roman\n",
      "findfont: Generic family 'serif' not found because none of the following families were found: Times New Roman\n",
      "findfont: Generic family 'serif' not found because none of the following families were found: Times New Roman\n",
      "findfont: Generic family 'serif' not found because none of the following families were found: Times New Roman\n",
      "findfont: Generic family 'serif' not found because none of the following families were found: Times New Roman\n",
      "findfont: Generic family 'serif' not found because none of the following families were found: Times New Roman\n",
      "findfont: Generic family 'serif' not found because none of the following families were found: Times New Roman\n",
      "findfont: Generic family 'serif' not found because none of the following families were found: Times New Roman\n"
     ]
    },
    {
     "name": "stderr",
     "output_type": "stream",
     "text": [
      "findfont: Generic family 'serif' not found because none of the following families were found: Times New Roman\n",
      "findfont: Generic family 'serif' not found because none of the following families were found: Times New Roman\n",
      "findfont: Generic family 'serif' not found because none of the following families were found: Times New Roman\n",
      "findfont: Generic family 'serif' not found because none of the following families were found: Times New Roman\n",
      "findfont: Generic family 'serif' not found because none of the following families were found: Times New Roman\n",
      "findfont: Generic family 'serif' not found because none of the following families were found: Times New Roman\n",
      "findfont: Generic family 'serif' not found because none of the following families were found: Times New Roman\n",
      "findfont: Generic family 'serif' not found because none of the following families were found: Times New Roman\n",
      "findfont: Generic family 'serif' not found because none of the following families were found: Times New Roman\n",
      "findfont: Generic family 'serif' not found because none of the following families were found: Times New Roman\n",
      "findfont: Generic family 'serif' not found because none of the following families were found: Times New Roman\n",
      "findfont: Generic family 'serif' not found because none of the following families were found: Times New Roman\n",
      "findfont: Generic family 'serif' not found because none of the following families were found: Times New Roman\n",
      "findfont: Generic family 'serif' not found because none of the following families were found: Times New Roman\n",
      "findfont: Generic family 'serif' not found because none of the following families were found: Times New Roman\n",
      "findfont: Generic family 'serif' not found because none of the following families were found: Times New Roman\n",
      "findfont: Generic family 'serif' not found because none of the following families were found: Times New Roman\n",
      "findfont: Generic family 'serif' not found because none of the following families were found: Times New Roman\n",
      "findfont: Generic family 'serif' not found because none of the following families were found: Times New Roman\n",
      "findfont: Generic family 'serif' not found because none of the following families were found: Times New Roman\n",
      "findfont: Generic family 'serif' not found because none of the following families were found: Times New Roman\n",
      "findfont: Generic family 'serif' not found because none of the following families were found: Times New Roman\n",
      "findfont: Generic family 'serif' not found because none of the following families were found: Times New Roman\n",
      "findfont: Generic family 'serif' not found because none of the following families were found: Times New Roman\n",
      "findfont: Generic family 'serif' not found because none of the following families were found: Times New Roman\n",
      "findfont: Generic family 'serif' not found because none of the following families were found: Times New Roman\n",
      "findfont: Generic family 'serif' not found because none of the following families were found: Times New Roman\n",
      "findfont: Generic family 'serif' not found because none of the following families were found: Times New Roman\n",
      "findfont: Generic family 'serif' not found because none of the following families were found: Times New Roman\n",
      "findfont: Generic family 'serif' not found because none of the following families were found: Times New Roman\n",
      "findfont: Generic family 'serif' not found because none of the following families were found: Times New Roman\n",
      "findfont: Generic family 'serif' not found because none of the following families were found: Times New Roman\n",
      "findfont: Generic family 'serif' not found because none of the following families were found: Times New Roman\n",
      "findfont: Generic family 'serif' not found because none of the following families were found: Times New Roman\n",
      "findfont: Generic family 'serif' not found because none of the following families were found: Times New Roman\n",
      "findfont: Generic family 'serif' not found because none of the following families were found: Times New Roman\n",
      "findfont: Generic family 'serif' not found because none of the following families were found: Times New Roman\n",
      "findfont: Generic family 'serif' not found because none of the following families were found: Times New Roman\n",
      "findfont: Generic family 'serif' not found because none of the following families were found: Times New Roman\n",
      "findfont: Generic family 'serif' not found because none of the following families were found: Times New Roman\n",
      "findfont: Generic family 'serif' not found because none of the following families were found: Times New Roman\n",
      "findfont: Generic family 'serif' not found because none of the following families were found: Times New Roman\n",
      "findfont: Generic family 'serif' not found because none of the following families were found: Times New Roman\n",
      "findfont: Generic family 'serif' not found because none of the following families were found: Times New Roman\n",
      "findfont: Generic family 'serif' not found because none of the following families were found: Times New Roman\n",
      "findfont: Generic family 'serif' not found because none of the following families were found: Times New Roman\n",
      "findfont: Generic family 'serif' not found because none of the following families were found: Times New Roman\n",
      "findfont: Generic family 'serif' not found because none of the following families were found: Times New Roman\n",
      "findfont: Generic family 'serif' not found because none of the following families were found: Times New Roman\n",
      "findfont: Generic family 'serif' not found because none of the following families were found: Times New Roman\n"
     ]
    },
    {
     "data": {
      "image/png": "[encoded data removed]",
      "text/plain": [
       "<Figure size 1000x600 with 1 Axes>"
      ]
     },
     "metadata": {},
     "output_type": "display_data"
    }
   ],
   "source": [
    "# Plot results\n",
    "# Your code here\n",
    "\n",
    "plt.figure(figsize=(10, 6))\n",
    "plt.plot(sizes, mean_intervals, label='Without Bootstrap')\n",
    "plt.plot(sizes, bootstrap_mean_intervals, label='With Bootstrap')\n",
    "plt.xlabel('Sample Size')\n",
    "plt.ylabel('Confidence Interval Size')\n",
    "plt.legend()\n",
    "plt.show()"
   ]
  },
  {
   "cell_type": "code",
   "execution_count": 89,
   "metadata": {},
   "outputs": [],
   "source": [
    "# Compare the empirical coverage of different confidence intervals\n",
    "# Your code here\n",
    "\n",
    "mean_full_sample = np.mean(sample_full)\n",
    "\n",
    "z = 1.96\n",
    "N = 10000\n",
    "n_bootstrap = 1000\n",
    "coverage = np.array([])\n",
    "coverage_ar = np.array([])\n",
    "bootstrap_coverage_ar = np.array([]) \n",
    "\n",
    "for size in sizes:\n",
    "\n",
    "    for _ in range(N):\n",
    "\n",
    "        sample = np.random.choice(sample_full, size=size, replace=False)\n",
    "        lower, upper = st.norm.interval(0.95, loc=np.mean(sample), scale=st.sem(sample))\n",
    "\n",
    "        coverage = np.append(coverage, np.logical_and(mean_full_sample >= lower, mean_full_sample <= upper))\n",
    "\n",
    "\n",
    "        bootstrap_means = np.array([])\n",
    "        for _ in range(n_bootstrap):\n",
    "            bootstrap_sample = np.random.choice(sample, size=size, replace=True)\n",
    "            bootstrap_mean = np.mean(bootstrap_sample)\n",
    "            bootstrap_means = np.append(bootstrap_means, bootstrap_mean)\n",
    "\n",
    "\n",
    "        bootstrap_mean = np.mean(bootstrap_means)\n",
    "        bootstrap_std = np.std(bootstrap_means, ddof=1)\n",
    "        lower = bootstrap_mean - z * bootstrap_std\n",
    "        upper = bootstrap_mean + z * bootstrap_std \n",
    "\n",
    "        bootstrap_coverage = np.append(coverage, np.logical_and(mean_full_sample >= lower, mean_full_sample <= upper))\n",
    "\n",
    "\n",
    "    bootstrap_coverage_ar = np.append(bootstrap_coverage_ar, np.mean(bootstrap_coverage))\n",
    "\n",
    "    coverage_ar = np.append(coverage_ar, np.mean(coverage))\n",
    "\n",
    "\n",
    "\n",
    "\n",
    "\n",
    "\n"
   ]
  },
  {
   "cell_type": "code",
   "execution_count": 90,
   "metadata": {},
   "outputs": [
    {
     "name": "stderr",
     "output_type": "stream",
     "text": [
      "findfont: Generic family 'serif' not found because none of the following families were found: Times New Roman\n",
      "findfont: Generic family 'serif' not found because none of the following families were found: Times New Roman\n",
      "findfont: Generic family 'serif' not found because none of the following families were found: Times New Roman\n",
      "findfont: Generic family 'serif' not found because none of the following families were found: Times New Roman\n",
      "findfont: Generic family 'serif' not found because none of the following families were found: Times New Roman\n",
      "findfont: Generic family 'serif' not found because none of the following families were found: Times New Roman\n",
      "findfont: Generic family 'serif' not found because none of the following families were found: Times New Roman\n",
      "findfont: Generic family 'serif' not found because none of the following families were found: Times New Roman\n",
      "findfont: Generic family 'serif' not found because none of the following families were found: Times New Roman\n",
      "findfont: Generic family 'serif' not found because none of the following families were found: Times New Roman\n",
      "findfont: Generic family 'serif' not found because none of the following families were found: Times New Roman\n",
      "findfont: Generic family 'serif' not found because none of the following families were found: Times New Roman\n",
      "findfont: Generic family 'serif' not found because none of the following families were found: Times New Roman\n",
      "findfont: Generic family 'serif' not found because none of the following families were found: Times New Roman\n",
      "findfont: Generic family 'serif' not found because none of the following families were found: Times New Roman\n",
      "findfont: Generic family 'serif' not found because none of the following families were found: Times New Roman\n",
      "findfont: Generic family 'serif' not found because none of the following families were found: Times New Roman\n",
      "findfont: Generic family 'serif' not found because none of the following families were found: Times New Roman\n",
      "findfont: Generic family 'serif' not found because none of the following families were found: Times New Roman\n",
      "findfont: Generic family 'serif' not found because none of the following families were found: Times New Roman\n",
      "findfont: Generic family 'serif' not found because none of the following families were found: Times New Roman\n",
      "findfont: Generic family 'serif' not found because none of the following families were found: Times New Roman\n",
      "findfont: Generic family 'serif' not found because none of the following families were found: Times New Roman\n",
      "findfont: Generic family 'serif' not found because none of the following families were found: Times New Roman\n",
      "findfont: Generic family 'serif' not found because none of the following families were found: Times New Roman\n",
      "findfont: Generic family 'serif' not found because none of the following families were found: Times New Roman\n",
      "findfont: Generic family 'serif' not found because none of the following families were found: Times New Roman\n",
      "findfont: Generic family 'serif' not found because none of the following families were found: Times New Roman\n",
      "findfont: Generic family 'serif' not found because none of the following families were found: Times New Roman\n",
      "findfont: Generic family 'serif' not found because none of the following families were found: Times New Roman\n",
      "findfont: Generic family 'serif' not found because none of the following families were found: Times New Roman\n",
      "findfont: Generic family 'serif' not found because none of the following families were found: Times New Roman\n",
      "findfont: Generic family 'serif' not found because none of the following families were found: Times New Roman\n",
      "findfont: Generic family 'serif' not found because none of the following families were found: Times New Roman\n",
      "findfont: Generic family 'serif' not found because none of the following families were found: Times New Roman\n",
      "findfont: Generic family 'serif' not found because none of the following families were found: Times New Roman\n",
      "findfont: Generic family 'serif' not found because none of the following families were found: Times New Roman\n",
      "findfont: Generic family 'serif' not found because none of the following families were found: Times New Roman\n",
      "findfont: Generic family 'serif' not found because none of the following families were found: Times New Roman\n",
      "findfont: Generic family 'serif' not found because none of the following families were found: Times New Roman\n",
      "findfont: Generic family 'serif' not found because none of the following families were found: Times New Roman\n",
      "findfont: Generic family 'serif' not found because none of the following families were found: Times New Roman\n",
      "findfont: Generic family 'serif' not found because none of the following families were found: Times New Roman\n",
      "findfont: Generic family 'serif' not found because none of the following families were found: Times New Roman\n",
      "findfont: Generic family 'serif' not found because none of the following families were found: Times New Roman\n",
      "findfont: Generic family 'serif' not found because none of the following families were found: Times New Roman\n",
      "findfont: Generic family 'serif' not found because none of the following families were found: Times New Roman\n",
      "findfont: Generic family 'serif' not found because none of the following families were found: Times New Roman\n",
      "findfont: Generic family 'serif' not found because none of the following families were found: Times New Roman\n",
      "findfont: Generic family 'serif' not found because none of the following families were found: Times New Roman\n",
      "findfont: Generic family 'serif' not found because none of the following families were found: Times New Roman\n",
      "findfont: Generic family 'serif' not found because none of the following families were found: Times New Roman\n",
      "findfont: Generic family 'serif' not found because none of the following families were found: Times New Roman\n",
      "findfont: Generic family 'serif' not found because none of the following families were found: Times New Roman\n",
      "findfont: Generic family 'serif' not found because none of the following families were found: Times New Roman\n",
      "findfont: Generic family 'serif' not found because none of the following families were found: Times New Roman\n",
      "findfont: Generic family 'serif' not found because none of the following families were found: Times New Roman\n",
      "findfont: Generic family 'serif' not found because none of the following families were found: Times New Roman\n",
      "findfont: Generic family 'serif' not found because none of the following families were found: Times New Roman\n",
      "findfont: Generic family 'serif' not found because none of the following families were found: Times New Roman\n",
      "findfont: Generic family 'serif' not found because none of the following families were found: Times New Roman\n",
      "findfont: Generic family 'serif' not found because none of the following families were found: Times New Roman\n",
      "findfont: Generic family 'serif' not found because none of the following families were found: Times New Roman\n",
      "findfont: Generic family 'serif' not found because none of the following families were found: Times New Roman\n",
      "findfont: Generic family 'serif' not found because none of the following families were found: Times New Roman\n",
      "findfont: Generic family 'serif' not found because none of the following families were found: Times New Roman\n",
      "findfont: Generic family 'serif' not found because none of the following families were found: Times New Roman\n",
      "findfont: Generic family 'serif' not found because none of the following families were found: Times New Roman\n",
      "findfont: Generic family 'serif' not found because none of the following families were found: Times New Roman\n",
      "findfont: Generic family 'serif' not found because none of the following families were found: Times New Roman\n",
      "findfont: Generic family 'serif' not found because none of the following families were found: Times New Roman\n",
      "findfont: Generic family 'serif' not found because none of the following families were found: Times New Roman\n",
      "findfont: Generic family 'serif' not found because none of the following families were found: Times New Roman\n",
      "findfont: Generic family 'serif' not found because none of the following families were found: Times New Roman\n",
      "findfont: Generic family 'serif' not found because none of the following families were found: Times New Roman\n",
      "findfont: Generic family 'serif' not found because none of the following families were found: Times New Roman\n",
      "findfont: Generic family 'serif' not found because none of the following families were found: Times New Roman\n",
      "findfont: Generic family 'serif' not found because none of the following families were found: Times New Roman\n",
      "findfont: Generic family 'serif' not found because none of the following families were found: Times New Roman\n",
      "findfont: Generic family 'serif' not found because none of the following families were found: Times New Roman\n",
      "findfont: Generic family 'serif' not found because none of the following families were found: Times New Roman\n",
      "findfont: Generic family 'serif' not found because none of the following families were found: Times New Roman\n",
      "findfont: Generic family 'serif' not found because none of the following families were found: Times New Roman\n",
      "findfont: Generic family 'serif' not found because none of the following families were found: Times New Roman\n"
     ]
    },
    {
     "data": {
      "image/png": "[encoded data removed]",
      "text/plain": [
       "<Figure size 1000x600 with 1 Axes>"
      ]
     },
     "metadata": {},
     "output_type": "display_data"
    }
   ],
   "source": [
    "# Plot results\n",
    "# Your code here\n",
    "\n",
    "plt.figure(figsize=(10, 6))\n",
    "plt.plot(sizes, coverage_ar, label='without bootstrap')\n",
    "plt.plot(sizes, bootstrap_coverage_ar, label='bootstrap')\n",
    "\n",
    "\n",
    "plt.xlabel('Sample Size')\n",
    "plt.ylabel('Empirical Coverage')\n",
    "plt.legend()\n",
    "plt.show()\n"
   ]
  },
  {
   "cell_type": "markdown",
   "metadata": {},
   "source": [
    "Your conclusion: from comparison bootstrap and bootstrap-free methods, we see that their convergence is the same"
   ]
  },
  {
   "cell_type": "markdown",
   "metadata": {},
   "source": [
    "# Task 2. Currency in RC-circuit (25 points)\n",
    "\n",
    "In this part you need to estimate parameters and apply delta method. \n",
    "\n",
    "First of all, you will need some libraries. Also, fix random seed to get reproducible results."
   ]
  },
  {
   "cell_type": "code",
   "execution_count": 93,
   "metadata": {},
   "outputs": [],
   "source": [
    "import numpy as np\n",
    "from scipy.stats import norm, uniform\n",
    "from numpy.random import choice, seed\n",
    "\n",
    "seed(42)"
   ]
  },
  {
   "cell_type": "markdown",
   "metadata": {},
   "source": [
    "## Part 1. Estimate parameters (4 points)"
   ]
  },
  {
   "cell_type": "markdown",
   "metadata": {},
   "source": [
    "Assume that there is an RC-circuit with a capacitor and a resistor. \n",
    "<img src=\"circuit.png\" width=\"200\"  class=\"center\">\n",
    "\n",
    "We charge the capacitor until it reaches voltage $V$ and measure current intensity. In this case voltage on the capacitor yields the formula for exponential decay:\n",
    "\n",
    "$$ V_C(t) = V e^{-\\frac{t}{RC}} $$\n",
    "\n",
    "Let's assume that voltage $V$ and resistence $R$ are independent and belong to the following distributions:\n",
    "\n",
    "### a) \n",
    "$V \\sim \\mathcal{N}(5, 1.3)$, \n",
    "\n",
    "$R \\sim \\mathcal{U}(7, 12)$\n",
    "\n",
    "### b) \n",
    "$V \\sim \\mathcal{N}(16, 2)$, \n",
    "\n",
    "$R \\sim \\text{Exp}(20)$\n",
    "\n",
    "Consider **true values** for $V$ and $R$ to be the means of the corresponding distributions."
   ]
  },
  {
   "cell_type": "markdown",
   "metadata": {},
   "source": [
    "Generate sample for $V$ of size 100. Apply maximum likelihood to estimate the mean. Show theoretical calculations for the estimates (with intermediate steps) and make simulation.\n",
    "\n",
    "\n"
   ]
  },
  {
   "cell_type": "markdown",
   "metadata": {},
   "source": [
    "\n",
    "$$\\mathcal{L} = \\prod_{i = 1}^{n}\\frac{1}{\\sigma} exp\\left(-\\frac{1}{2\\sigma^2} (X_i - \\mu)^2\\right) = \\frac{1}{\\sigma^n} exp\\left(-\\frac{1}{2\\sigma^2} \\sum_{i=1}^n(X_i - \\mu)^2\\right) = \\frac{1}{\\sigma^n} exp\\left(-\\frac{nS_n^2}{2\\sigma^2}\\right) exp\\left(-\\frac{n(\\overline{X}_n - \\mu)^2}{2\\sigma^2}\\right)$$\n",
    "\n",
    "where $\\overline{X}_n = \\frac{1}{n} \\sum X_i$ and $S_n^2 = \\frac{1}{n} \\sum (X_i - \\overline{X}_n)^2$\n",
    "\n",
    "$$l_n(\\mu, \\sigma) = -nlog(\\sigma) - \\frac{nS_N^2}{2\\sigma^2} - \\frac{n(\\overline{X}_n - \\mu)^2}{2\\sigma^2}$$\n",
    "\n",
    "Differeciating over $\\mu$ and $\\sigma $ we get estimation\n",
    "$$ \\hat{Variance} = S_n^2$$\n",
    "$$\\hat{\\mu}_n = \\overline{X}_n$$\n",
    "\n",
    "So\n",
    "$$\\hat{V}_{n} = \\overline{X}_n$$"
   ]
  },
  {
   "cell_type": "code",
   "execution_count": 205,
   "metadata": {},
   "outputs": [
    {
     "data": {
      "text/plain": [
       "16.03951719831545"
      ]
     },
     "execution_count": 205,
     "metadata": {},
     "output_type": "execute_result"
    }
   ],
   "source": [
    "# Your code here\n",
    "size = 100\n",
    "V_samples = np.random.normal(loc=16, scale=2, size=size) \n",
    "\n",
    "V_estimation = np.mean(V_samples)\n",
    "\n",
    "V_estimation"
   ]
  },
  {
   "cell_type": "markdown",
   "metadata": {},
   "source": [
    "Generate sample for $R$ on size 100. Apply maximum likelihood to estimate the mean. Show theoretical calculations for estimates (with intermediate steps) and make simulation.\n",
    "\n",
    "\n",
    "$$\\mathcal{L} = \\prod_{i = 1}^{n}\\frac{1}{\\lambda} exp\\left(-\\frac{x_i}{\\lambda} \\right) = \\left(\\frac{1}{\\lambda}\\right)^n exp\\left(-\\frac{\\sum x_i}{\\lambda} \\right)$$\n",
    " where $\\lambda$ is mean\n",
    "\n",
    " $$l_n = -n log(\\lambda) - \\frac{1}{\\lambda} \\sum x_i$$\n",
    "\n",
    " $$\\frac{\\partial l_n}{\\partial \\lambda} = - \\frac{n}{\\lambda} + \\frac{1}{\\lambda^2} \\sum x_i = 0$$\n",
    "\n",
    " Hence, $\\lambda = \\frac{1}{n} \\sum x_i$\n",
    "$$\\hat{R}_{n} = \\frac{1}{100} \\sum R_i$$\n"
   ]
  },
  {
   "cell_type": "code",
   "execution_count": 209,
   "metadata": {},
   "outputs": [
    {
     "data": {
      "text/plain": [
       "20.06782833763181"
      ]
     },
     "execution_count": 209,
     "metadata": {},
     "output_type": "execute_result"
    }
   ],
   "source": [
    "# Your code here\n",
    "\n",
    "size = 100\n",
    "R_samples = np.random.exponential(scale=20, size=size) \n",
    "\n",
    "R_estimation = np.mean(R_samples)\n",
    "\n",
    "R_estimation\n"
   ]
  },
  {
   "cell_type": "markdown",
   "metadata": {},
   "source": [
    "## Part 2. Apply delta method (8 points)"
   ]
  },
  {
   "cell_type": "markdown",
   "metadata": {},
   "source": [
    "Assume, that we measure current intensity after 1 second. Let's take $C = 1$. In this case we get the following simplified formula:\n",
    "\n",
    "$$I = \\frac{V}{R} e^{-\\frac{1}{R}}.$$\n",
    "\n",
    "Find estimate for current and it's confidence interval. Show theoretical calculations for estimates (with intermediate steps) and make simulation.\n",
    "\n",
    "Following delta method\n",
    "$$\\hat{I}_n = \\frac{\\hat{V}_n}{\\hat{R}_n} e^{-\\frac{1}{\\hat{R}_n}}$$\n",
    "\n",
    "\n",
    "\\begin{aligned}\\frac{\\widehat I_n-I_*}{\\widehat se(\\widehat I_n)}&\\leadsto\\mathcal N(0,1),\\\\\\\\\\widehat se(\\widehat I_n)&=\\sqrt{(\\widehat\\nabla g)^T\\widehat J_n(\\widehat\\nabla g)},\\widehat J_n=J_n(\\widehat\\theta),\\widehat\\nabla g=\\nabla g(\\widehat\\theta).\\end{aligned}\n",
    "\n",
    "$J_n$ is covariance matrix\n",
    "\n",
    "$$cov(R, V) = 0$$\n",
    "\n",
    "$$cov(R, R) = E\\left[ (R - \\mu_R)^2 \\right] = \\frac{1}{n} \\sum (R_i - \\mu_R)^2$$\n",
    "\n",
    "$$cov(V, V) = \\frac{1}{n} \\sum (V_i - \\mu_V)^2$$\n",
    "\n",
    "And also we need to find gradient of function $g$\n",
    "\n",
    "$$\\frac{\\partial g}{\\partial R} = \\frac{1 - R}{R^3}V e^{-\\frac{1}{R}}$$\n",
    "$$\\frac{\\partial g}{\\partial V} = \\frac{1}{R}e^{-\\frac{1}{R}}$$\n",
    "\n",
    "So, we know everything to write confidence interval\n",
    "\n",
    "\n",
    "$$ CI(\\hat{I}_n) = \\left(\\hat{I_n} − z_{\\frac{\\alpha}{2}} \\hat{se};\\; \\hat{I_n} + z_{\\frac{\\alpha}{2}} \\hat{se}\\right)$$"
   ]
  },
  {
   "cell_type": "code",
   "execution_count": 260,
   "metadata": {},
   "outputs": [
    {
     "data": {
      "text/plain": [
       "'I 0.760 with normal-based confident interval (0.628, 0.893)'"
      ]
     },
     "execution_count": 260,
     "metadata": {},
     "output_type": "execute_result"
    }
   ],
   "source": [
    "I_n = V_estimation / R_estimation * np.exp(-1 / R_estimation)\n",
    "\n",
    "g_grad = np.array([(1 - R_estimation)/ R_estimation**3 * V_estimation * np.exp(-1 / R_estimation), 1 /R_estimation * np.exp(- 1 / R_estimation)])\n",
    "\n",
    "J_n = np.array([[1/20, 0],\n",
    "                [0, 2]])\n",
    "\n",
    "se = (g_grad.T @ J_n @ g_grad)**(1/2)\n",
    "\n",
    "lower = I_n - z * se\n",
    "upper = I_n + z * se\n",
    "\n",
    "delta_conf = upper - lower\n",
    "\n",
    "f\"I {I_n:.3f} with normal-based confident interval ({lower:.3f}, {upper:.3f})\"\n",
    "\n"
   ]
  },
  {
   "cell_type": "markdown",
   "metadata": {},
   "source": [
    "## Part 3. Non-parametric bootstrap estimation (2 points)\n",
    "\n",
    "Estimate confidence interval for $I$ using non-parametric bootstrap."
   ]
  },
  {
   "cell_type": "code",
   "execution_count": 256,
   "metadata": {},
   "outputs": [
    {
     "data": {
      "text/plain": [
       "'I 0.760 with normal-based confident interval (1.427, 2.042)'"
      ]
     },
     "execution_count": 256,
     "metadata": {},
     "output_type": "execute_result"
    }
   ],
   "source": [
    "# Your code here\n",
    "N = 1000\n",
    "size = 100\n",
    "\n",
    "I = V_samples / R_samples * np.exp(-1 / R_samples)\n",
    "\n",
    "bootstrap_means = np.array([])\n",
    "\n",
    "for _ in range(N):\n",
    "    bootstrap_sample = np.random.choice(I, size=size, replace=True)\n",
    "\n",
    "    #print(bootstrap_sample_V / bootstrap_sample_R * np.exp(-1 / bootstrap_sample_R))\n",
    "\n",
    "    bootstrap_mean = np.mean(bootstrap_sample)\n",
    "    bootstrap_means = np.append(bootstrap_means, bootstrap_mean)\n",
    "\n",
    "\n",
    "bootstrap_mean = np.mean(bootstrap_means)\n",
    "bootstrap_std = np.std(bootstrap_means, ddof=1)\n",
    "lower = bootstrap_mean - z * bootstrap_std\n",
    "upper = bootstrap_mean + z * bootstrap_std\n",
    "\n",
    "\n",
    "f\"I {I_n:.3f} with normal-based confident interval ({lower:.3f}, {upper:.3f})\"\n"
   ]
  },
  {
   "cell_type": "markdown",
   "metadata": {},
   "source": [
    "## Part 4. Parametric bootstrap estimation (3 points)\n",
    "\n",
    "Estimate confidence interval for $I$ using parametric bootstrap."
   ]
  },
  {
   "cell_type": "code",
   "execution_count": 257,
   "metadata": {},
   "outputs": [
    {
     "data": {
      "text/plain": [
       "(array([32., 24., 15.,  8.,  3.,  6.,  4.,  3.,  3.,  2.]),\n",
       " array([5.36473221e-03, 6.75494257e-01, 1.34562378e+00, 2.01575331e+00,\n",
       "        2.68588283e+00, 3.35601235e+00, 4.02614188e+00, 4.69627140e+00,\n",
       "        5.36640093e+00, 6.03653045e+00, 6.70665998e+00]),\n",
       " <BarContainer object of 10 artists>)"
      ]
     },
     "execution_count": 257,
     "metadata": {},
     "output_type": "execute_result"
    },
    {
     "name": "stderr",
     "output_type": "stream",
     "text": [
      "findfont: Generic family 'serif' not found because none of the following families were found: Times New Roman\n",
      "findfont: Generic family 'serif' not found because none of the following families were found: Times New Roman\n",
      "findfont: Generic family 'serif' not found because none of the following families were found: Times New Roman\n",
      "findfont: Generic family 'serif' not found because none of the following families were found: Times New Roman\n",
      "findfont: Generic family 'serif' not found because none of the following families were found: Times New Roman\n",
      "findfont: Generic family 'serif' not found because none of the following families were found: Times New Roman\n",
      "findfont: Generic family 'serif' not found because none of the following families were found: Times New Roman\n",
      "findfont: Generic family 'serif' not found because none of the following families were found: Times New Roman\n",
      "findfont: Generic family 'serif' not found because none of the following families were found: Times New Roman\n",
      "findfont: Generic family 'serif' not found because none of the following families were found: Times New Roman\n",
      "findfont: Generic family 'serif' not found because none of the following families were found: Times New Roman\n",
      "findfont: Generic family 'serif' not found because none of the following families were found: Times New Roman\n",
      "findfont: Generic family 'serif' not found because none of the following families were found: Times New Roman\n",
      "findfont: Generic family 'serif' not found because none of the following families were found: Times New Roman\n",
      "findfont: Generic family 'serif' not found because none of the following families were found: Times New Roman\n",
      "findfont: Generic family 'serif' not found because none of the following families were found: Times New Roman\n",
      "findfont: Generic family 'serif' not found because none of the following families were found: Times New Roman\n",
      "findfont: Generic family 'serif' not found because none of the following families were found: Times New Roman\n",
      "findfont: Generic family 'serif' not found because none of the following families were found: Times New Roman\n",
      "findfont: Generic family 'serif' not found because none of the following families were found: Times New Roman\n",
      "findfont: Generic family 'serif' not found because none of the following families were found: Times New Roman\n",
      "findfont: Generic family 'serif' not found because none of the following families were found: Times New Roman\n",
      "findfont: Generic family 'serif' not found because none of the following families were found: Times New Roman\n",
      "findfont: Generic family 'serif' not found because none of the following families were found: Times New Roman\n",
      "findfont: Generic family 'serif' not found because none of the following families were found: Times New Roman\n",
      "findfont: Generic family 'serif' not found because none of the following families were found: Times New Roman\n",
      "findfont: Generic family 'serif' not found because none of the following families were found: Times New Roman\n",
      "findfont: Generic family 'serif' not found because none of the following families were found: Times New Roman\n",
      "findfont: Generic family 'serif' not found because none of the following families were found: Times New Roman\n"
     ]
    },
    {
     "name": "stderr",
     "output_type": "stream",
     "text": [
      "findfont: Generic family 'serif' not found because none of the following families were found: Times New Roman\n",
      "findfont: Generic family 'serif' not found because none of the following families were found: Times New Roman\n",
      "findfont: Generic family 'serif' not found because none of the following families were found: Times New Roman\n",
      "findfont: Generic family 'serif' not found because none of the following families were found: Times New Roman\n",
      "findfont: Generic family 'serif' not found because none of the following families were found: Times New Roman\n",
      "findfont: Generic family 'serif' not found because none of the following families were found: Times New Roman\n",
      "findfont: Generic family 'serif' not found because none of the following families were found: Times New Roman\n",
      "findfont: Generic family 'serif' not found because none of the following families were found: Times New Roman\n",
      "findfont: Generic family 'serif' not found because none of the following families were found: Times New Roman\n",
      "findfont: Generic family 'serif' not found because none of the following families were found: Times New Roman\n",
      "findfont: Generic family 'serif' not found because none of the following families were found: Times New Roman\n",
      "findfont: Generic family 'serif' not found because none of the following families were found: Times New Roman\n",
      "findfont: Generic family 'serif' not found because none of the following families were found: Times New Roman\n",
      "findfont: Generic family 'serif' not found because none of the following families were found: Times New Roman\n",
      "findfont: Generic family 'serif' not found because none of the following families were found: Times New Roman\n",
      "findfont: Generic family 'serif' not found because none of the following families were found: Times New Roman\n",
      "findfont: Generic family 'serif' not found because none of the following families were found: Times New Roman\n",
      "findfont: Generic family 'serif' not found because none of the following families were found: Times New Roman\n",
      "findfont: Generic family 'serif' not found because none of the following families were found: Times New Roman\n",
      "findfont: Generic family 'serif' not found because none of the following families were found: Times New Roman\n",
      "findfont: Generic family 'serif' not found because none of the following families were found: Times New Roman\n",
      "findfont: Generic family 'serif' not found because none of the following families were found: Times New Roman\n",
      "findfont: Generic family 'serif' not found because none of the following families were found: Times New Roman\n",
      "findfont: Generic family 'serif' not found because none of the following families were found: Times New Roman\n",
      "findfont: Generic family 'serif' not found because none of the following families were found: Times New Roman\n",
      "findfont: Generic family 'serif' not found because none of the following families were found: Times New Roman\n",
      "findfont: Generic family 'serif' not found because none of the following families were found: Times New Roman\n",
      "findfont: Generic family 'serif' not found because none of the following families were found: Times New Roman\n",
      "findfont: Generic family 'serif' not found because none of the following families were found: Times New Roman\n"
     ]
    },
    {
     "data": {
      "image/png": "[encoded data removed]",
      "text/plain": [
       "<Figure size 640x480 with 1 Axes>"
      ]
     },
     "metadata": {},
     "output_type": "display_data"
    }
   ],
   "source": [
    "I = V_samples / R_samples * np.exp(-1 / R_samples)\n",
    "\n",
    "plt.hist(I)\n",
    "\n"
   ]
  },
  {
   "cell_type": "markdown",
   "metadata": {},
   "source": [
    "We consider exponential distribution of $I_n$"
   ]
  },
  {
   "cell_type": "code",
   "execution_count": 263,
   "metadata": {},
   "outputs": [
    {
     "data": {
      "text/plain": [
       "'I 0.760 with normal-based confident interval (0.492, 1.029)'"
      ]
     },
     "execution_count": 263,
     "metadata": {},
     "output_type": "execute_result"
    }
   ],
   "source": [
    "# Your code here\n",
    "\n",
    "\n",
    "N = 1000\n",
    "size = 100\n",
    "\n",
    "bootstrap_means = np.array([])\n",
    "\n",
    "for _ in range(N):\n",
    "\n",
    "    bootstrap_sample = np.random.exponential(scale = 1/I_n, size=size)\n",
    "\n",
    "    #print(bootstrap_sample_V / bootstrap_sample_R * np.exp(-1 / bootstrap_sample_R))\n",
    "\n",
    "    bootstrap_mean = np.mean(bootstrap_sample)\n",
    "    bootstrap_means = np.append(bootstrap_means, bootstrap_mean)\n",
    "\n",
    "\n",
    "bootstrap_std = np.std(bootstrap_means, ddof=1)\n",
    "lower = I_n - z * bootstrap_std\n",
    "upper = I_n + z * bootstrap_std\n",
    "\n",
    "\n",
    "f\"I {I_n:.3f} with normal-based confident interval ({lower:.3f}, {upper:.3f})\"\n"
   ]
  },
  {
   "cell_type": "markdown",
   "metadata": {},
   "source": [
    "## Part 5. Compare results (8 points)"
   ]
  },
  {
   "cell_type": "markdown",
   "metadata": {},
   "source": [
    "Compare the size of confidence intervals obtained using delta method, parametric and non-parametric bootstrap. Additionally, compare the empirical coverage of different confidence intervals (by generating sufficient number of samples of corresponding size and calculating proportion of cases when the interval covers the true value for the current $I$). Consider sizes `[1e1, ..., 1e4]`. Plot results and make conclusion about their accuracy."
   ]
  },
  {
   "cell_type": "code",
   "execution_count": null,
   "metadata": {},
   "outputs": [],
   "source": [
    "sizes = np.logspace(1, 4, 4).astype(np.int)"
   ]
  },
  {
   "cell_type": "code",
   "execution_count": 264,
   "metadata": {},
   "outputs": [],
   "source": [
    "# Compare size of confidence intervals obtained using delta method, parametric and non-parametric bootstrap\n",
    "# Your code here\n",
    "\n",
    "\n",
    "N = 1000\n",
    "z = 1.96\n",
    "\n",
    "I = V_samples / R_samples * np.exp(-1 / R_samples)\n",
    "\n",
    "bootstrap_intervals = np.array([])\n",
    "par_bootstrap_intervals = np.array([])\n",
    "\n",
    "for size in sizes:\n",
    "\n",
    "    bootstrap_means = np.array([])\n",
    "    par_bootstrap_means = np.array([])\n",
    "\n",
    "    for _ in range(N):\n",
    "\n",
    "        bootstrap_sample = np.random.choice(I, size=size, replace=True)\n",
    "        bootstrap_mean = np.mean(bootstrap_sample)\n",
    "        bootstrap_means = np.append(bootstrap_means, bootstrap_mean)\n",
    "\n",
    "\n",
    "        par_bootstrap_sample = np.random.exponential(scale = 1/I_n, size=size)\n",
    "        par_bootstrap_mean = np.mean(par_bootstrap_sample)\n",
    "        par_bootstrap_means = np.append(par_bootstrap_means, par_bootstrap_mean)\n",
    "\n",
    "\n",
    "\n",
    "\n",
    "    bootstrap_mean = np.mean(bootstrap_means)\n",
    "    bootstrap_std = np.std(bootstrap_means, ddof=1)\n",
    "    lower = bootstrap_mean - z * bootstrap_std\n",
    "    upper = bootstrap_mean + z * bootstrap_std\n",
    "    bootstrap_intervals = np.append(bootstrap_intervals, upper - lower)\n",
    "\n",
    "\n",
    "\n",
    "    par_bootstrap_mean = np.mean(par_bootstrap_means)\n",
    "    par_bootstrap_std = np.std(par_bootstrap_means, ddof=1)\n",
    "    lower = par_bootstrap_mean - z * par_bootstrap_std\n",
    "    upper = par_bootstrap_mean + z * par_bootstrap_std\n",
    "    par_bootstrap_intervals = np.append(par_bootstrap_intervals, upper - lower)\n",
    "\n"
   ]
  },
  {
   "cell_type": "code",
   "execution_count": 266,
   "metadata": {},
   "outputs": [
    {
     "name": "stderr",
     "output_type": "stream",
     "text": [
      "findfont: Generic family 'serif' not found because none of the following families were found: Times New Roman\n",
      "findfont: Generic family 'serif' not found because none of the following families were found: Times New Roman\n",
      "findfont: Generic family 'serif' not found because none of the following families were found: Times New Roman\n",
      "findfont: Generic family 'serif' not found because none of the following families were found: Times New Roman\n",
      "findfont: Generic family 'serif' not found because none of the following families were found: Times New Roman\n",
      "findfont: Generic family 'serif' not found because none of the following families were found: Times New Roman\n",
      "findfont: Generic family 'serif' not found because none of the following families were found: Times New Roman\n",
      "findfont: Generic family 'serif' not found because none of the following families were found: Times New Roman\n",
      "findfont: Generic family 'serif' not found because none of the following families were found: Times New Roman\n"
     ]
    },
    {
     "name": "stderr",
     "output_type": "stream",
     "text": [
      "findfont: Generic family 'serif' not found because none of the following families were found: Times New Roman\n",
      "findfont: Generic family 'serif' not found because none of the following families were found: Times New Roman\n",
      "findfont: Generic family 'serif' not found because none of the following families were found: Times New Roman\n",
      "findfont: Generic family 'serif' not found because none of the following families were found: Times New Roman\n",
      "findfont: Generic family 'serif' not found because none of the following families were found: Times New Roman\n",
      "findfont: Generic family 'serif' not found because none of the following families were found: Times New Roman\n",
      "findfont: Generic family 'serif' not found because none of the following families were found: Times New Roman\n",
      "findfont: Generic family 'serif' not found because none of the following families were found: Times New Roman\n",
      "findfont: Generic family 'serif' not found because none of the following families were found: Times New Roman\n",
      "findfont: Generic family 'serif' not found because none of the following families were found: Times New Roman\n",
      "findfont: Generic family 'serif' not found because none of the following families were found: Times New Roman\n",
      "findfont: Generic family 'serif' not found because none of the following families were found: Times New Roman\n",
      "findfont: Generic family 'serif' not found because none of the following families were found: Times New Roman\n",
      "findfont: Generic family 'serif' not found because none of the following families were found: Times New Roman\n",
      "findfont: Generic family 'serif' not found because none of the following families were found: Times New Roman\n",
      "findfont: Generic family 'serif' not found because none of the following families were found: Times New Roman\n",
      "findfont: Generic family 'serif' not found because none of the following families were found: Times New Roman\n",
      "findfont: Generic family 'serif' not found because none of the following families were found: Times New Roman\n",
      "findfont: Generic family 'serif' not found because none of the following families were found: Times New Roman\n",
      "findfont: Generic family 'serif' not found because none of the following families were found: Times New Roman\n",
      "findfont: Generic family 'serif' not found because none of the following families were found: Times New Roman\n",
      "findfont: Generic family 'serif' not found because none of the following families were found: Times New Roman\n",
      "findfont: Generic family 'serif' not found because none of the following families were found: Times New Roman\n",
      "findfont: Generic family 'serif' not found because none of the following families were found: Times New Roman\n",
      "findfont: Generic family 'serif' not found because none of the following families were found: Times New Roman\n",
      "findfont: Generic family 'serif' not found because none of the following families were found: Times New Roman\n",
      "findfont: Generic family 'serif' not found because none of the following families were found: Times New Roman\n",
      "findfont: Generic family 'serif' not found because none of the following families were found: Times New Roman\n",
      "findfont: Generic family 'serif' not found because none of the following families were found: Times New Roman\n",
      "findfont: Generic family 'serif' not found because none of the following families were found: Times New Roman\n",
      "findfont: Generic family 'serif' not found because none of the following families were found: Times New Roman\n",
      "findfont: Generic family 'serif' not found because none of the following families were found: Times New Roman\n",
      "findfont: Generic family 'serif' not found because none of the following families were found: Times New Roman\n",
      "findfont: Generic family 'serif' not found because none of the following families were found: Times New Roman\n",
      "findfont: Generic family 'serif' not found because none of the following families were found: Times New Roman\n",
      "findfont: Generic family 'serif' not found because none of the following families were found: Times New Roman\n",
      "findfont: Generic family 'serif' not found because none of the following families were found: Times New Roman\n",
      "findfont: Generic family 'serif' not found because none of the following families were found: Times New Roman\n",
      "findfont: Generic family 'serif' not found because none of the following families were found: Times New Roman\n",
      "findfont: Generic family 'serif' not found because none of the following families were found: Times New Roman\n",
      "findfont: Generic family 'serif' not found because none of the following families were found: Times New Roman\n",
      "findfont: Generic family 'serif' not found because none of the following families were found: Times New Roman\n",
      "findfont: Generic family 'serif' not found because none of the following families were found: Times New Roman\n",
      "findfont: Generic family 'serif' not found because none of the following families were found: Times New Roman\n",
      "findfont: Generic family 'serif' not found because none of the following families were found: Times New Roman\n",
      "findfont: Generic family 'serif' not found because none of the following families were found: Times New Roman\n",
      "findfont: Generic family 'serif' not found because none of the following families were found: Times New Roman\n",
      "findfont: Generic family 'serif' not found because none of the following families were found: Times New Roman\n",
      "findfont: Generic family 'serif' not found because none of the following families were found: Times New Roman\n",
      "findfont: Generic family 'serif' not found because none of the following families were found: Times New Roman\n",
      "findfont: Generic family 'serif' not found because none of the following families were found: Times New Roman\n",
      "findfont: Generic family 'serif' not found because none of the following families were found: Times New Roman\n",
      "findfont: Generic family 'serif' not found because none of the following families were found: Times New Roman\n",
      "findfont: Generic family 'serif' not found because none of the following families were found: Times New Roman\n",
      "findfont: Generic family 'serif' not found because none of the following families were found: Times New Roman\n",
      "findfont: Generic family 'serif' not found because none of the following families were found: Times New Roman\n",
      "findfont: Generic family 'serif' not found because none of the following families were found: Times New Roman\n",
      "findfont: Generic family 'serif' not found because none of the following families were found: Times New Roman\n",
      "findfont: Generic family 'serif' not found because none of the following families were found: Times New Roman\n",
      "findfont: Generic family 'serif' not found because none of the following families were found: Times New Roman\n",
      "findfont: Generic family 'serif' not found because none of the following families were found: Times New Roman\n",
      "findfont: Generic family 'serif' not found because none of the following families were found: Times New Roman\n",
      "findfont: Generic family 'serif' not found because none of the following families were found: Times New Roman\n",
      "findfont: Generic family 'serif' not found because none of the following families were found: Times New Roman\n",
      "findfont: Generic family 'serif' not found because none of the following families were found: Times New Roman\n",
      "findfont: Generic family 'serif' not found because none of the following families were found: Times New Roman\n",
      "findfont: Generic family 'serif' not found because none of the following families were found: Times New Roman\n",
      "findfont: Generic family 'serif' not found because none of the following families were found: Times New Roman\n",
      "findfont: Generic family 'serif' not found because none of the following families were found: Times New Roman\n",
      "findfont: Generic family 'serif' not found because none of the following families were found: Times New Roman\n",
      "findfont: Generic family 'serif' not found because none of the following families were found: Times New Roman\n",
      "findfont: Generic family 'serif' not found because none of the following families were found: Times New Roman\n",
      "findfont: Generic family 'serif' not found because none of the following families were found: Times New Roman\n",
      "findfont: Generic family 'serif' not found because none of the following families were found: Times New Roman\n",
      "findfont: Generic family 'serif' not found because none of the following families were found: Times New Roman\n",
      "findfont: Generic family 'serif' not found because none of the following families were found: Times New Roman\n",
      "findfont: Generic family 'serif' not found because none of the following families were found: Times New Roman\n",
      "findfont: Generic family 'serif' not found because none of the following families were found: Times New Roman\n",
      "findfont: Generic family 'serif' not found because none of the following families were found: Times New Roman\n",
      "findfont: Generic family 'serif' not found because none of the following families were found: Times New Roman\n",
      "findfont: Generic family 'serif' not found because none of the following families were found: Times New Roman\n",
      "findfont: Generic family 'serif' not found because none of the following families were found: Times New Roman\n"
     ]
    },
    {
     "data": {
      "image/png": "[encoded data removed]",
      "text/plain": [
       "<Figure size 1000x600 with 1 Axes>"
      ]
     },
     "metadata": {},
     "output_type": "display_data"
    }
   ],
   "source": [
    "# Plot results\n",
    "# Your code here\n",
    "\n",
    "plt.figure(figsize=(10, 6))\n",
    "plt.plot(sizes, bootstrap_intervals, label=' Bootstrap')\n",
    "plt.plot(sizes, par_bootstrap_intervals, label='Parametric Bootstrap')\n",
    "\n",
    "plt.plot(sizes, np.array([delta_conf] * np.shape(sizes)[0]), label='delta method')\n",
    "\n",
    "\n",
    "plt.xlabel('Sample Size')\n",
    "plt.ylabel('Confidence Interval Size')\n",
    "plt.legend()\n",
    "plt.show()"
   ]
  },
  {
   "cell_type": "code",
   "execution_count": null,
   "metadata": {},
   "outputs": [],
   "source": [
    "# Compare the empirical coverage of different confidence intervals\n",
    "# Your code here\n",
    "\n",
    "mean_full_sample = np.mean(sample_full)\n",
    "\n",
    "z = 1.96\n",
    "N = 100\n",
    "n_bootstrap = 1000\n",
    "coverage = np.array([])\n",
    "coverage_ar = np.array([])\n",
    "bootstrap_coverage_ar = np.array([]) \n",
    "\n",
    "for size in sizes:\n",
    "\n",
    "    for _ in range(N):\n",
    "\n",
    "\n",
    "        for _ in range(n_bootstrap):\n",
    "            \n",
    "            bootstrap_sample = np.random.choice(I, size=size, replace=True)\n",
    "            bootstrap_mean = np.mean(bootstrap_sample)\n",
    "            bootstrap_means = np.append(bootstrap_means, bootstrap_mean)\n",
    "\n",
    "\n",
    "            par_bootstrap_sample = np.random.exponential(scale = 1/I_n, size=size)\n",
    "            par_bootstrap_mean = np.mean(par_bootstrap_sample)\n",
    "            par_bootstrap_means = np.append(par_bootstrap_means, par_bootstrap_mean)\n",
    "\n",
    "\n",
    "        bootstrap_mean = np.mean(bootstrap_means)\n",
    "        bootstrap_std = np.std(bootstrap_means, ddof=1)\n",
    "        lower = bootstrap_mean - z * bootstrap_std\n",
    "        upper = bootstrap_mean + z * bootstrap_std\n",
    "\n",
    "        coverage = np.append(coverage, np.logical_and(mean_full_sample >= lower, mean_full_sample <= upper))\n",
    "\n",
    "\n",
    "        par_bootstrap_mean = np.mean(par_bootstrap_means)\n",
    "        par_bootstrap_std = np.std(par_bootstrap_means, ddof=1)\n",
    "        lower = par_bootstrap_mean - z * par_bootstrap_std\n",
    "        upper = par_bootstrap_mean + z * par_bootstrap_std\n",
    "\n",
    "        par_coverage = np.append(coverage, np.logical_and(mean_full_sample >= lower, mean_full_sample <= upper))\n",
    "\n",
    "\n",
    "        bootstrap_coverage = np.append(coverage, np.logical_and(mean_full_sample >= lower, mean_full_sample <= upper))\n",
    "        par_bootstrap_coverage = np.append(par_coverage, np.logical_and(mean_full_sample >= lower, mean_full_sample <= upper))\n",
    "\n",
    "\n",
    "    bootstrap_coverage_ar = np.append(bootstrap_coverage_ar, np.mean(bootstrap_coverage))\n",
    "\n",
    "    par_bootstrap_coverage_ar = np.append(par_bootstrap_coverage_ar, np.mean(par_bootstrap_coverage))\n",
    "\n",
    "\n",
    "\n",
    "\n",
    "\n",
    "\n"
   ]
  },
  {
   "cell_type": "code",
   "execution_count": null,
   "metadata": {},
   "outputs": [],
   "source": [
    "# Plot results\n",
    "# Your code here\n",
    "\n"
   ]
  },
  {
   "cell_type": "markdown",
   "metadata": {},
   "source": [
    "Your conclusion:\n",
    "\n"
   ]
  },
  {
   "cell_type": "markdown",
   "metadata": {},
   "source": [
    "We see that parametric bootstrap gives less confidence interval then non parametric\n",
    "\n",
    "\n"
   ]
  }
 ],
 "metadata": {
  "kernelspec": {
   "display_name": "Python 3 (ipykernel)",
   "language": "python",
   "name": "python3"
  },
  "language_info": {
   "codemirror_mode": {
    "name": "ipython",
    "version": 3
   },
   "file_extension": ".py",
   "mimetype": "text/x-python",
   "name": "python",
   "nbconvert_exporter": "python",
   "pygments_lexer": "ipython3",
   "version": "3.10.12"
  }
 },
 "nbformat": 4,
 "nbformat_minor": 4
}
